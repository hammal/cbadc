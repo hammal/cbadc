{
  "cells": [
    {
      "cell_type": "code",
      "execution_count": null,
      "metadata": {
        "collapsed": false
      },
      "outputs": [],
      "source": [
        "%matplotlib inline"
      ]
    },
    {
      "cell_type": "markdown",
      "metadata": {},
      "source": [
        "\n# The Mid Point Setting\n\nIn this tutorial we investigate the effect of a symmetric versus non symmetric\nFIR filter.\n"
      ]
    },
    {
      "cell_type": "markdown",
      "metadata": {},
      "source": [
        "## Analog System\n\nWe will commit to a leap-frog control-bounded analog system throughtout\nthis tutorial.\n\n"
      ]
    },
    {
      "cell_type": "code",
      "execution_count": null,
      "metadata": {
        "collapsed": false
      },
      "outputs": [],
      "source": [
        "from cbadc.analog_system import LeapFrog\nfrom cbadc.digital_control import DigitalControl\nimport numpy as np\n\n# Determine system parameters\nN = 6\nM = N\nbeta = 6250\n# Set control period\nT = 1.0 / (2.0 * beta)\n# Adjust the feedback to achieve a bandwidth corresponding to OSR.\nOSR = 128\nomega_3dB = 2 * np.pi / (T * OSR)\n\n# Instantiate analog system.\nbeta_vec = beta * np.ones(N)\nrho_vec = - omega_3dB ** 2 / beta * np.ones(N)\nGamma = np.diag(-beta_vec)\nanalog_system = LeapFrog(beta_vec, rho_vec, Gamma)\n\nprint(analog_system, \"\\n\")"
      ]
    },
    {
      "cell_type": "markdown",
      "metadata": {},
      "source": [
        "## Analog Signal\n\nWe will also need an analog signal for conversion.\nIn this tutorial we will use a Sinusodial signal.\n\n"
      ]
    },
    {
      "cell_type": "code",
      "execution_count": null,
      "metadata": {
        "collapsed": false
      },
      "outputs": [],
      "source": [
        "from cbadc.analog_signal import Sinusodial\n\n# Set the peak amplitude.\namplitude = 1.0\n# Choose the sinusodial frequency via an oversampling ratio (OSR).\nfrequency = 1.0 / (T * OSR * (1 << 0))\n\n# We also specify a phase an offset these are hovewer optional.\nphase = np.pi / 3\noffset = 0.0\n\n# Instantiate the analog signal\nanalog_signal = Sinusodial(amplitude, frequency, phase, offset)\n\nprint(analog_signal)"
      ]
    },
    {
      "cell_type": "markdown",
      "metadata": {},
      "source": [
        "## Simulating\n\nEach estimator will require an independent stream of control signals.\nTherefore, we will next instantiate several digital controls and simulators.\n\n"
      ]
    },
    {
      "cell_type": "code",
      "execution_count": null,
      "metadata": {
        "collapsed": false
      },
      "outputs": [],
      "source": [
        "from cbadc.simulator import StateSpaceSimulator\n\n# Set simulation precision parameters\natol = 1e-6\nrtol = 1e-12\nmax_step= T / 10.\n\n# Instantiate digital controls\ndigital_control1 = DigitalControl(T, M)\ndigital_control2 = DigitalControl(T, M)\nprint(digital_control1)\n\n# Instantiate simulators.\nsimulator1 = StateSpaceSimulator(\n    analog_system, \n    digital_control1, \n    [analog_signal], \n    atol = atol,\n    rtol = rtol,\n    max_step = max_step\n    )\nsimulator2 = StateSpaceSimulator(\n    analog_system, \n    digital_control2, \n    [analog_signal], \n    atol = atol,\n    rtol = rtol,\n    max_step = max_step\n    )\n\nprint(simulator1)"
      ]
    },
    {
      "cell_type": "markdown",
      "metadata": {},
      "source": [
        "## Default and Mid point FIR Filter\n\nNext we instantiate the quadratic and default estimator\n\n"
      ]
    },
    {
      "cell_type": "code",
      "execution_count": null,
      "metadata": {
        "collapsed": false
      },
      "outputs": [],
      "source": [
        "from cbadc.digital_estimator import FIRFilter\n\n# Set the bandwidth of the estimator\nG_at_omega = np.linalg.norm(analog_system.transfer_function(np.array([omega_3dB])))\neta2 = G_at_omega**2\nprint(f\"eta2 = {eta2}, {20 * np.log10(eta2)} [dB]\")\n\n# Set the batch size\nK1 = 1 << 10\nK2 = 1 << 10\n\n# Instantiate the default filter\nfir_default = FIRFilter(simulator1, analog_system, digital_control1, eta2, K1, K2, mid_point=False)\nfir_mid_point = FIRFilter(simulator2, analog_system, digital_control2, eta2, K1, K2, mid_point=True)\nprint(fir_default, \"\\n\")\nprint(fir_mid_point, \"\\n\")"
      ]
    },
    {
      "cell_type": "markdown",
      "metadata": {},
      "source": [
        "## Visualize Estimator's Transfer Function (Same for Both)\n\n\n"
      ]
    },
    {
      "cell_type": "code",
      "execution_count": null,
      "metadata": {
        "collapsed": false
      },
      "outputs": [],
      "source": [
        "import matplotlib.pyplot as plt\n\n# Logspace frequencies\nfrequencies = np.logspace(-3, 0, 100)\nomega = 4 * np.pi * beta * frequencies\n\n# Compute NTF\nntf = fir_mid_point.noise_transfer_function(omega)\nntf_dB = 20 * np.log10(np.abs(ntf))\n\n# Compute STF\nstf = fir_mid_point.signal_transfer_function(omega)\nstf_dB = 20 * np.log10(np.abs(stf.flatten()))\n\n# Signal attenuation at the input signal frequency\nstf_at_omega = fir_mid_point.signal_transfer_function(np.array([2 * np.pi * frequency]))[0]\n\n# Plot\nplt.figure()\nplt.semilogx(frequencies, stf_dB, label='$STF(\\omega)$')\nfor n in range(N):\n    plt.semilogx(frequencies, ntf_dB[0, n, :], label=f\"$|NTF_{n+1}(\\omega)|$\")\nplt.semilogx(frequencies, 20 * np.log10(np.linalg.norm(ntf[0,:,:], axis=0)), '--', label=\"$ || NTF(\\omega) ||_2 $\")\n\n# Add labels and legends to figure\nplt.legend()\nplt.grid(which='both')\nplt.title(\"Signal and noise transfer functions\")\nplt.xlabel(\"$\\omega / (4 \\pi \\\\beta ) $\")\nplt.ylabel(\"dB\")\nplt.xlim((frequencies[1], frequencies[-1]))\nplt.gcf().tight_layout()"
      ]
    },
    {
      "cell_type": "markdown",
      "metadata": {},
      "source": [
        "## Impulse Responses\n\n\n"
      ]
    },
    {
      "cell_type": "code",
      "execution_count": null,
      "metadata": {
        "collapsed": false
      },
      "outputs": [],
      "source": [
        "# Next visualize the decay of the resulting filter coefficients.\nh_index = np.arange(-K1, K2)\n\nimpulse_response_default = np.linalg.norm(np.array(fir_default.h[:,0,:]), axis=1) ** 2\nimpulse_response_default_dB = 10 * np.log10(impulse_response_default)\n\nimpulse_response_mid_point = np.linalg.norm(np.array(fir_mid_point.h[:,0,:]), axis=1) ** 2\nimpulse_response_mid_point_dB = 10 * np.log10(impulse_response_mid_point)\n\nfig, ax = plt.subplots(2)\n\nax[0].plot(h_index, impulse_response_default, label=f\"Default\")\nax[1].plot(h_index, impulse_response_default_dB, label=f\"Default\")\nax[0].plot(h_index, impulse_response_mid_point, label=f\"Mid point\")\nax[1].plot(h_index, impulse_response_mid_point_dB, label=f\"Mid point\")\nax[0].legend()\nfig.suptitle(f\"For $\\eta^2 = {20 * np.log10(eta2)}$ [dB]\")\nax[1].set_xlabel(\"filter taps k\")\nax[0].set_ylabel(\"$\\| \\mathbf{h} [k]\\|^2_2$\")\nax[1].set_ylabel(\"$\\| \\mathbf{h} [k]\\|^2_2$ [dB]\")\nax[0].set_xlim((-50, 50))\nax[0].grid(which='both')\nax[1].set_xlim((-50, 500))\nax[1].set_ylim((-200, 0))\nax[1].grid(which='both')"
      ]
    },
    {
      "cell_type": "markdown",
      "metadata": {},
      "source": [
        "## Estimating (Filtering)\n\nNext we execute all simulation and estimation tasks by iterating over the\nestimators. Note that since no stop criteria is set for either the analog\nsignal, the simulator, or the digital estimator this iteration could\npotentially continue until the default stop criteria of 2^63 iterations.\n\n"
      ]
    },
    {
      "cell_type": "code",
      "execution_count": null,
      "metadata": {
        "collapsed": false
      },
      "outputs": [],
      "source": [
        "# Set simulation length\nsize = K2 << 4\nu_hat_default = np.zeros(size)\nu_hat_mid_point = np.zeros(size)\nfor index in range(size):\n    u_hat_default[index] = next(fir_default)\n    u_hat_mid_point[index] = next(fir_mid_point)"
      ]
    },
    {
      "cell_type": "markdown",
      "metadata": {},
      "source": [
        "## Visualizing Results\n\nFinally, we summarize the comparision by visualizing the resulting estimate\nin both time and frequency domain.\n\n"
      ]
    },
    {
      "cell_type": "code",
      "execution_count": null,
      "metadata": {
        "collapsed": false
      },
      "outputs": [],
      "source": [
        "from cbadc.utilities import compute_power_spectral_density\n\nt = np.arange(size)\n# compensate the built in K1 delay of FIR filter.\nt_fir = np.arange(-K1 + 1, size - K1 + 1)\nu = np.zeros_like(u_hat_mid_point)\nu_mid_point = np.zeros_like(u)\nfor index, tt in enumerate(t):\n    u[index] = analog_signal.evaluate(tt * T)\n    u_mid_point[index] = analog_signal.evaluate(tt * T - T / 2.0)\nplt.plot(t, stf_at_omega * u, label=\"$\\mathrm{STF}(2 \\pi f_u) * u(t)$\")\nplt.plot(t_fir, u_hat_default, label=\"$\\hat{u}(t)$ Default\")\nplt.plot(t_fir - 0.5, u_hat_mid_point, label=\"$\\hat{u}(t - T/2)$ Mid point\")\nplt.xlabel('$t / T$')\nplt.legend()\nplt.title(\"Estimated input signal\")\nplt.grid(which='both')\nplt.xlim((-100, 500))\nplt.tight_layout()\n\nplt.figure()\nplt.plot(t, stf_at_omega * u, label=\"$\\mathrm{STF}(2 \\pi f_u) * u(t)$\")\nplt.plot(t_fir, u_hat_default, label=\"$\\hat{u}(t)$ Default\")\nplt.plot(t_fir - 0.5, u_hat_mid_point, label=\"$\\hat{u}(t - T/2)$ Mid point\")\nplt.xlabel('$t / T$')\nplt.legend()\nplt.title(\"Estimated input signal\")\nplt.grid(which='both')\nplt.xlim((t_fir[-1] + 50, t_fir[-1]))\nplt.tight_layout()\n\nplt.figure()\nplt.plot(t, stf_at_omega * u, label=\"$\\mathrm{STF}(2 \\pi f_u) * u(t)$\")\nplt.plot(t_fir, u_hat_default, label=\"$\\hat{u}(t)$ Default\")\nplt.plot(t_fir - 0.5, u_hat_mid_point, label=\"$\\hat{u}(t - T/2)$ Mid point\")\nplt.xlabel('$t / T$')\nplt.legend()\nplt.title(\"Estimated input signal\")\nplt.grid(which='both')\nplt.xlim((t_fir[0], t[-1]))\nplt.tight_layout()\n\nmid_point_error = stf_at_omega * u_mid_point[:(u.size - K1 + 1)] - u_hat_mid_point[(K1 -1):]\ndefault_error = stf_at_omega * u[:(u.size - K1 + 1)] - u_hat_default[(K1 - 1):]\nplt.figure()\nplt.plot(t[:(u.size - K1 + 1)], mid_point_error, label=\"$|\\mathrm{STF}(2 \\pi f_u) * u(t) - \\hat{u}(t)|$ Mid point\")\nplt.plot(t[:(u.size - K1 + 1)], default_error, label=\"$|\\mathrm{STF}(2 \\pi f_u) * u(t) - \\hat{u}(t)|$ Default\")\nplt.xlabel('$t / T$')\nplt.legend()\nplt.title(\"Estimation error\")\nplt.grid(which='both')\nplt.tight_layout()\n\nprint(f\"Average Mid point error: {np.linalg.norm(mid_point_error) / mid_point_error.size} \\nAverage Default error: {np.linalg.norm(default_error) / default_error.size}\")\n\nplt.figure()\nu_hat_mid_point_clipped = u_hat_mid_point[(K1 + K2):]\nu_hat_default_clipped = u_hat_default[(K1 + K2):]\nu_clipped = stf_at_omega * u\nf_mid_point, psd_mid_point = compute_power_spectral_density(u_hat_mid_point_clipped, nperseg=1 << 12)\nf_default, psd_default = compute_power_spectral_density(u_hat_default_clipped, nperseg=1 << 12)\nf_ref, psd_ref = compute_power_spectral_density(u_clipped, nperseg=1 << 12)\nplt.semilogx(f_ref, 10 * np.log10(psd_ref), label=\"$\\mathrm{STF}(2 \\pi f_u) * U(f)$\")\nplt.semilogx(f_mid_point, 10 * np.log10(psd_mid_point), label=\"$\\hat{U}(f)$ Mid point\")\nplt.semilogx(f_default, 10 * np.log10(psd_default), label=\"$\\hat{U}(f)$ Default\")\nplt.legend()\nplt.ylim((-200, 100))\nplt.xlim((f_default[1], f_default[-1]))\nplt.xlabel('frequency [Hz]')\nplt.ylabel('$ \\mathrm{V}^2 \\, / \\, (1 \\mathrm{Hz})$')\nplt.grid(which='both')\nplt.show()"
      ]
    }
  ],
  "metadata": {
    "kernelspec": {
      "display_name": "Python 3",
      "language": "python",
      "name": "python3"
    },
    "language_info": {
      "codemirror_mode": {
        "name": "ipython",
        "version": 3
      },
      "file_extension": ".py",
      "mimetype": "text/x-python",
      "name": "python",
      "nbconvert_exporter": "python",
      "pygments_lexer": "ipython3",
      "version": "3.8.5"
    }
  },
  "nbformat": 4,
  "nbformat_minor": 0
}