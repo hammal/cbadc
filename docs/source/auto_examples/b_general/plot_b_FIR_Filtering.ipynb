{
  "cells": [
    {
      "cell_type": "code",
      "execution_count": null,
      "metadata": {
        "collapsed": false
      },
      "outputs": [],
      "source": [
        "%matplotlib inline"
      ]
    },
    {
      "cell_type": "markdown",
      "metadata": {},
      "source": [
        "\n# Digital Estimator as FIR Filter\n\nWe demonstrate how to set up the FIR filter implementation.\n"
      ]
    },
    {
      "cell_type": "markdown",
      "metadata": {},
      "source": [
        "## Analog System and Digital Control Setup\n\nTo initialize a digital estimator, we need to specify which analog system and\ndigital control are used. Here we default to the chain-of-integrators\nexample.\n\n"
      ]
    },
    {
      "cell_type": "code",
      "execution_count": null,
      "metadata": {
        "collapsed": false
      },
      "outputs": [],
      "source": [
        "from cbadc.analog_system import AnalogSystem\nfrom cbadc.digital_control import DigitalControl\nfrom cbadc.digital_estimator import DigitalEstimator\nimport numpy as np\nN = 6\nM = N\nbeta = 6250.\nrho = - beta * 1e-2\nA = [[rho, 0, 0, 0, 0, 0],\n     [beta, rho, 0, 0, 0, 0],\n     [0, beta, rho, 0, 0, 0],\n     [0, 0, beta, rho, 0, 0],\n     [0, 0, 0, beta, rho, 0],\n     [0, 0, 0, 0, beta, rho]]\nB = [[beta], [0], [0], [0], [0], [0]]\nCT = np.eye(N)\nGamma = [[-beta, 0, 0, 0, 0, 0],\n         [0, -beta, 0, 0, 0, 0],\n         [0, 0, -beta, 0, 0, 0],\n         [0, 0, 0, -beta, 0, 0],\n         [0, 0, 0, 0, -beta, 0],\n         [0, 0, 0, 0, 0, -beta]]\nGamma_tildeT = CT\nT = 1.0/(2 * beta)\n\nanalog_system = AnalogSystem(A, B, CT, Gamma, Gamma_tildeT)\ndigital_control = DigitalControl(T, M)\n\n# Summarize the analog system, digital control, and digital estimator.\nprint(analog_system, \"\\n\")\nprint(digital_control)"
      ]
    },
    {
      "cell_type": "markdown",
      "metadata": {},
      "source": [
        "## Impulse Response\n\nNext we instantiate a :py:class:`cbadc.digital_estimator.FIRFilter` and\nvisualize its impulse responses.\n\n\n"
      ]
    },
    {
      "cell_type": "code",
      "execution_count": null,
      "metadata": {
        "collapsed": false
      },
      "outputs": [],
      "source": [
        "import matplotlib.pyplot as plt\nfrom cbadc.utilities import read_byte_stream_from_file, byte_stream_2_control_signal\n\neta2 = 1e6\n\nfrom cbadc.digital_estimator import FIRFilter\nbyte_stream = read_byte_stream_from_file('sinusodial_simulation.adc', M)\ncontrol_signal_sequences = byte_stream_2_control_signal(byte_stream, M)\n\nK1 = 250\nK2 = 250\nh_index = np.arange(-K1, K2)\n\ndigital_estimator = FIRFilter(\n    control_signal_sequences, analog_system, digital_control, eta2, K1, K2)\nimpulse_response = np.abs(np.array(digital_estimator.h[:, 0, :])) ** 2\nimpulse_response_dB = 10 * np.log10(impulse_response)\n\nfig, ax = plt.subplots(2)\nfor index in range(N):\n    ax[0].plot(h_index, impulse_response[:, index],\n               label=f\"$h_{index + 1}[k]$\")\n    ax[1].plot(h_index, impulse_response_dB[:, index],\n               label=f\"$h_{index + 1}[k]$\")\nax[0].legend()\nfig.suptitle(f\"For $\\eta^2 = {20 * np.log10(eta2)}$ [dB]\")\nax[1].set_xlabel(\"filter taps k\")\nax[0].set_ylabel(\"$| h_\\ell [k]|^2_2$\")\nax[1].set_ylabel(\"$| h_\\ell [k]|^2_2$ [dB]\")\nax[0].set_xlim((-50, 50))\nax[0].grid(which='both')\nax[1].set_xlim((-K1, K2))\nax[1].grid(which='both')"
      ]
    },
    {
      "cell_type": "markdown",
      "metadata": {},
      "source": [
        "### Transfer Function\n\nAdditionally, we plot the corresponding transfer functions of the estimator.\n\n\n"
      ]
    },
    {
      "cell_type": "code",
      "execution_count": null,
      "metadata": {
        "collapsed": false
      },
      "outputs": [],
      "source": [
        "# Logspace frequencies\nfrequencies = np.logspace(-3, 0, 100)\nomega = 4 * np.pi * beta * frequencies\n\n# Compute NTF\nntf = digital_estimator.noise_transfer_function(omega)\nntf_dB = 20 * np.log10(np.abs(ntf))\n\n# Compute STF\nstf = digital_estimator.signal_transfer_function(omega)\nstf_dB = 20 * np.log10(np.abs(stf.flatten()))\n\n# Plot\nplt.figure()\nplt.semilogx(frequencies, stf_dB, label='$STF(\\omega)$')\nfor n in range(N):\n    plt.semilogx(frequencies, ntf_dB[0, n, :], label=f\"$|NTF_{n+1}(\\omega)|$\")\nplt.semilogx(frequencies, 20 * np.log10(np.linalg.norm(\n    ntf[0, :, :], axis=0)), '--', label=\"$ || NTF(\\omega) ||_2 $\")\n\n# Add labels and legends to figure\nplt.legend()\nplt.grid(which='both')\nplt.title(\"Signal and noise transfer functions\")\nplt.xlabel(\"$\\omega / (4 \\pi \\\\beta ) $\")\nplt.ylabel(\"dB\")\nplt.xlim((frequencies[10], frequencies[-1]))\nplt.ylim((-300, 10))\nplt.gcf().tight_layout()"
      ]
    },
    {
      "cell_type": "markdown",
      "metadata": {},
      "source": [
        "## Impulse Response and $\\eta^2$\n\nThe rate at which the estimator's impulse response decays depends on our\nbandwidth parameter $\\eta^2$. Specifically, as we increase\n$\\eta^2$ we seek a higher resolution at a smaller bandwidth. As\nexpected, decreasing the bandwidth requires 'more' filtering and, therefore,\na slower decaying impulse response. Equivalently, we require more filter taps\nfor a given precision as we increase $\\eta^2$.\n\n"
      ]
    },
    {
      "cell_type": "code",
      "execution_count": null,
      "metadata": {
        "collapsed": false
      },
      "outputs": [],
      "source": [
        "Eta2 = np.logspace(0, 7, 8)\nK1 = 250\nK2 = 250\nh_index = np.arange(-K1, K2)\n\nplt.figure()\nfor eta2 in Eta2:\n    digital_estimator = FIRFilter(\n        control_signal_sequences, analog_system, digital_control, eta2, K1, K2)\n    impulse_response = 20 * \\\n        np.log10(np.linalg.norm(\n            np.array(digital_estimator.h[:, 0, :]), axis=-1))\n    plt.plot(h_index, impulse_response,\n             label=f\"$\\eta^2 = {20 * np.log10(eta2)}$ [dB]\")\nplt.legend()\nplt.xlabel(\"filter taps k\")\nplt.ylabel(\"$\\| \\mathbf{h} [k] \\|^2_2$ [dB]\")\nplt.xlim((-K1, K2))\nplt.grid(which=\"both\")"
      ]
    },
    {
      "cell_type": "markdown",
      "metadata": {},
      "source": [
        "### Filter length\n\nWe can confirm the intuition from the previous section by considering\na different number of filter taps for a given simulation. Specifically, we\nFIRFilter parametrizations.\n\nConducting such a simulation is a good way of determining a minimum number\nof filter taps for a specific analog system, digital control, and $\\eta^2$\ncombination.\n\n"
      ]
    },
    {
      "cell_type": "code",
      "execution_count": null,
      "metadata": {
        "collapsed": false
      },
      "outputs": [],
      "source": [
        "from cbadc.utilities import compute_power_spectral_density\n\nfilter_lengths = [1 << 4, 1 << 6, 1 << 7, 1 << 8]\nprint(f\"filter_lengths: {filter_lengths}\")\n\neta2 = 1e6\n\ncontrol_signal_sequences = [byte_stream_2_control_signal(read_byte_stream_from_file(\n    '../a_getting_started/sinusodial_simulation.adc', M), M) for _ in filter_lengths]\n\nstop_after_number_of_iterations = 1 << 16\nu_hat = np.zeros(stop_after_number_of_iterations)\ndigital_estimators = [FIRFilter(\n    cs,\n    analog_system,\n    digital_control,\n    eta2,\n    filter_lengths[index],\n    filter_lengths[index],\n    stop_after_number_of_iterations=stop_after_number_of_iterations\n) for index, cs in enumerate(control_signal_sequences)]\n\ndigital_estimators.append(DigitalEstimator(\n    byte_stream_2_control_signal(read_byte_stream_from_file(\n    '../a_getting_started/sinusodial_simulation.adc', M), M),\n    analog_system,\n    digital_control,\n    eta2,\n    stop_after_number_of_iterations >> 2,\n    1 << 14,\n    stop_after_number_of_iterations=stop_after_number_of_iterations\n))\n\nfig_frequency_spectrum = 4\nfig_time_domain = 5\nfor index_de, de in enumerate(digital_estimators):\n    # Print the estimator configuration\n    print(de)\n    for index, estimate in enumerate(de):\n        u_hat[index] = estimate\n\n    plt.figure(fig_frequency_spectrum)\n\n    if(index_de < len(filter_lengths)):\n        # Plot the FIR filters\n        f, psd = compute_power_spectral_density(\n            u_hat[filter_lengths[index_de]:])\n        plt.semilogx(f, 10 * np.log10(psd),\n                     label=f'K1=K2={filter_lengths[index_de]}')\n        plt.figure(fig_time_domain)\n        t_fir = np.arange(-filter_lengths[index_de] + 1,\n                          stop_after_number_of_iterations - filter_lengths[index_de] + 1)\n        plt.plot(t_fir, u_hat, label=f'K1=K2={filter_lengths[index_de]}')\n    else:\n        # Plot reference\n        f, psd = compute_power_spectral_density(\n            u_hat)\n        plt.semilogx(f, 10 * np.log10(psd),\n                     label=f'DigitalEstimator')\n        plt.figure(fig_time_domain)\n        t_fir = np.arange(0, u_hat.size)\n        plt.plot(t_fir, u_hat, label=f'DigitalEstimator')\nplt.xlabel('$t / T$')\nplt.ylabel('$\\hat{u}(t)$')\nplt.legend()\nplt.title(\"Estimated input signal\")\nplt.grid(which='both')\nplt.xlim(stop_after_number_of_iterations - 501,\n         stop_after_number_of_iterations - 1)\nplt.tight_layout()\n\nplt.figure(fig_frequency_spectrum)\nplt.legend()\nplt.xlabel('frequency [Hz]')\nplt.ylabel('$ \\mathrm{V}^2 \\, / \\, \\mathrm{Hz}$')\nplt.xlim((f[1], f[-1]))\nplt.grid(which=\"both\")"
      ]
    }
  ],
  "metadata": {
    "kernelspec": {
      "display_name": "Python 3",
      "language": "python",
      "name": "python3"
    },
    "language_info": {
      "codemirror_mode": {
        "name": "ipython",
        "version": 3
      },
      "file_extension": ".py",
      "mimetype": "text/x-python",
      "name": "python",
      "nbconvert_exporter": "python",
      "pygments_lexer": "ipython3",
      "version": "3.8.5"
    }
  },
  "nbformat": 4,
  "nbformat_minor": 0
}