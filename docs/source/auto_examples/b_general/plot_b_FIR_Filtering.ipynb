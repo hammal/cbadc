{
  "cells": [
    {
      "cell_type": "code",
      "execution_count": null,
      "metadata": {
        "collapsed": false
      },
      "outputs": [],
      "source": [
        "%matplotlib inline"
      ]
    },
    {
      "cell_type": "markdown",
      "metadata": {},
      "source": [
        "\n# Digital Estimator as FIR Filter\n\nWe demonstrate how to set up the FIR filter implementation.\n"
      ]
    },
    {
      "cell_type": "markdown",
      "metadata": {},
      "source": [
        "## Analog System and Digital Control Setup\n\nTo initialize a digital estimator, we need to specify which analog system and\ndigital control are used. Here we default to the chain-of-integrators\nexample.\n\n"
      ]
    },
    {
      "cell_type": "code",
      "execution_count": null,
      "metadata": {
        "collapsed": false
      },
      "outputs": [],
      "source": [
        "from cbadc.analog_system import AnalogSystem\nfrom cbadc.digital_control import DigitalControl\nfrom cbadc.digital_estimator import DigitalEstimator\nimport numpy as np\nN = 6\nM = N\nbeta = 6250.\nrho = - beta * 1e-2\nA = [[rho, 0, 0, 0, 0, 0],\n     [beta, rho, 0, 0, 0, 0],\n     [0, beta, rho, 0, 0, 0],\n     [0, 0, beta, rho, 0, 0],\n     [0, 0, 0, beta, rho, 0],\n     [0, 0, 0, 0, beta, rho]]\nB = [[beta], [0], [0], [0], [0], [0]]\nCT = np.eye(N)\nGamma = [[-beta, 0, 0, 0, 0, 0],\n         [0, -beta, 0, 0, 0, 0],\n         [0, 0, -beta, 0, 0, 0],\n         [0, 0, 0, -beta, 0, 0],\n         [0, 0, 0, 0, -beta, 0],\n         [0, 0, 0, 0, 0, -beta]]\nGamma_tildeT = CT\nT = 1.0/(2 * beta)\n\nanalog_system = AnalogSystem(A, B, CT, Gamma, Gamma_tildeT)\ndigital_control = DigitalControl(T, M)\n\n# Summarize the analog system, digital control, and digital estimator.\nprint(analog_system, \"\\n\")\nprint(digital_control)"
      ]
    },
    {
      "cell_type": "markdown",
      "metadata": {},
      "source": [
        "## Impulse Response\n\nNext we instantiate a :py:class:`cbadc.digital_estimator.FIRFilter` and\nvisualize its impulse responses.\n\nNote that we will also use use the control signal sequence that we previously\nsimulated in\n:doc:`../a_getting_started/plot_b_simulate_a_control_bounded_adc`.\n\n"
      ]
    },
    {
      "cell_type": "code",
      "execution_count": null,
      "metadata": {
        "collapsed": false
      },
      "outputs": [],
      "source": [
        "import matplotlib.pyplot as plt\nfrom cbadc.utilities import read_byte_stream_from_file, byte_stream_2_control_signal\nfrom cbadc.digital_estimator import FIRFilter\n\n# Choose an arbitrary eta2\neta2 = 1e6\n\n# Load the control signal from previous simulation\nbyte_stream = read_byte_stream_from_file('sinusodial_simulation.adc', M)\ncontrol_signal_sequences = byte_stream_2_control_signal(byte_stream, M)\n\n\n# Instantiate digital estimator\nK1 = 250\nK2 = 250\ndigital_estimator = FIRFilter(\n    control_signal_sequences, analog_system, digital_control, eta2, K1, K2)\n\n# extract impulse response\nimpulse_response = np.abs(np.array(digital_estimator.h[:, 0, :]))\nimpulse_response_dB = 20 * np.log10(impulse_response)\n\n# Visualize the impulse response\nh_index = np.arange(-K1, K2)\nfig, ax = plt.subplots(2)\nfor index in range(N):\n    ax[0].plot(h_index, impulse_response[:, index],\n               label=f\"$h_{index + 1}[k]$\")\n    ax[1].plot(h_index, impulse_response_dB[:, index],\n               label=f\"$h_{index + 1}[k]$\")\nax[0].legend()\nfig.suptitle(f\"For $\\eta^2 = {10 * np.log10(eta2)}$ [dB]\")\nax[1].set_xlabel(\"filter tap k\")\nax[0].set_ylabel(\"$| h_\\ell [k]|$\")\nax[1].set_ylabel(\"$| h_\\ell [k]|$ [dB]\")\nax[0].set_xlim((-50, 50))\nax[0].grid(which='both')\nax[1].set_xlim((-K1, K2))\nax[1].grid(which='both')"
      ]
    },
    {
      "cell_type": "markdown",
      "metadata": {},
      "source": [
        "## Impulse Response and $\\eta^2$\n\nThe rate at which the estimator's impulse response decays depends on our\nbandwidth parameter $\\eta^2$. Specifically, as we increase\n$\\eta^2$ we typically seek a higher resolution at a smaller bandwidth.\nAs expected, a more narrowband filter requires a longer impulse responses,\nor equivalently, has a slower decaying impulse response. Therefore,\nwe require more filter taps for a given precision as we increase\n$\\eta^2$.\n\nNote that we plot only the first and largest filter coefficient\n$h_1[k]$. The fact that $h_1[k]$ has the largest filter\ncoefficients follows from the choice of analog system and digital control\nand does not necessarily generalize.\n\nWe additionally plot the corresponding digital estimator transfer functions\nas a function of the bandwidth parameter $\\eta^2$.\n\n"
      ]
    },
    {
      "cell_type": "code",
      "execution_count": null,
      "metadata": {
        "collapsed": false
      },
      "outputs": [],
      "source": [
        "Eta2 = np.logspace(0, 7, 8)\nK1 = 1 << 8\nK2 = 1 << 8\nh_index = np.arange(-K1, K2)\n\n\nplt.figure()\nfor eta2 in Eta2:\n    digital_estimator = FIRFilter(\n        control_signal_sequences, analog_system, digital_control, eta2, K1, K2)\n    impulse_response = 20 * \\\n        np.log10(np.abs(np.array(digital_estimator.h[:, 0, 0])))\n    plt.plot(np.arange(0, K2), impulse_response[K2:],\n             label=f\"$\\eta^2 = {10 * np.log10(eta2)}$ [dB]\")\nplt.legend()\nplt.xlabel(\"filter tap k\")\nplt.ylabel(\"$| h_1 [k] \\|$ [dB]\")\nplt.xlim((0, K2))\nplt.grid(which=\"both\")\n\n\n# Plot corresponding transfer functions of estimator\n\n# Logspace frequencies\nfrequencies = np.logspace(-3, 0, 100)\nomega = 4 * np.pi * beta * frequencies\n\nplt.figure()\nfor eta2 in Eta2:\n    # Compute NTF\n    digital_estimator = FIRFilter(\n        control_signal_sequences, analog_system, digital_control, eta2, K1, K2)\n\n    ntf = digital_estimator.noise_transfer_function(omega)\n    ntf_dB = 20 * np.log10(np.abs(ntf))\n\n    # Compute STF\n    stf = digital_estimator.signal_transfer_function(omega)\n    stf_dB = 20 * np.log10(np.abs(stf.flatten()))\n\n    plt.semilogx(frequencies, stf_dB, '--')\n    color = plt.gca().lines[-1].get_color()\n    plt.semilogx(\n        frequencies,\n        20 * np.log10(np.linalg.norm(ntf[0, :, :], axis=0)),\n        color=color,\n        label=f'$\\eta^2 = {10 * np.log10(eta2)}$ [dB]')\n\n# Add labels and legends to figure\nplt.legend(loc=4)\nplt.grid(which='both')\nplt.title(\"Signal (dashed) and noise (solid) transfer functions\")\nplt.xlabel(\"$\\omega / (4 \\pi \\\\beta ) $\")\nplt.ylabel(\"dB\")\nplt.xlim((1e-2, 0.5))\nplt.ylim((-150, 3))\nplt.gcf().tight_layout()"
      ]
    },
    {
      "cell_type": "markdown",
      "metadata": {},
      "source": [
        "### Filter length\n\nWe can confirm the intuition from the previous section by considering\ndifferent number of filter taps for a given control signal sequence. Firstly,\nwe once more plot the decay of the filter coefficients and recognize\nthat an SNR of around 100 dB (normalized spectrum), would need around\nK1=K2=180 filter taps or more. This is confirmed by simulation as the\nharmonics in the estimated spectrum disappear for larger number of\nfilter taps. Note also the reference used in the spectral plots which\ncorresponds to the default implementation\n:py:class:`cbadc.digital_estimator.DigitalEstimator` using a much\nlonger lookahead than corresponding FIR filters implementations.\n\nThe simulation is often a robust way of determining a minimum\nnumber of filter taps for a specific analog system, digital control,\nand $\\eta^2$ combination.\n\nAs is clear from the filter coefficient the different dimensions of the\ncontrol signals $\\mathbf{s}[k]$ can be filtered with FIR filters\nof different lengths as their decay varies.\n\n\n"
      ]
    },
    {
      "cell_type": "code",
      "execution_count": null,
      "metadata": {
        "collapsed": false
      },
      "outputs": [],
      "source": [
        "from cbadc.utilities import compute_power_spectral_density\n\nfilter_lengths = [10, 20, 40, 80, 120, 160, 180, 200, 220]\n\neta2 = 1e6\n\ncontrol_signal_sequences = [byte_stream_2_control_signal(read_byte_stream_from_file(\n    '../a_getting_started/sinusodial_simulation.adc', M), M) for _ in filter_lengths]\n\nstop_after_number_of_iterations = 1 << 16\nu_hat = np.zeros(stop_after_number_of_iterations)\n\n\ndigital_estimators = [FIRFilter(\n    cs,\n    analog_system,\n    digital_control,\n    eta2,\n    filter_lengths[index],\n    filter_lengths[index],\n    stop_after_number_of_iterations=stop_after_number_of_iterations\n) for index, cs in enumerate(control_signal_sequences)]\n\n\nimpulse_response_dB = 20 * \\\n    np.log10(np.abs(np.array(digital_estimators[-1].h[:, 0, :])))\nplt.figure()\nfor index in range(N):\n    plt.plot(\n        np.arange(0, filter_lengths[-1]),\n        impulse_response_dB[filter_lengths[-1]:, index],\n        label=f\"$h_{index + 1}[k]$\")\nplt.legend()\nplt.xlabel(\"filter tap k\")\nplt.ylabel(\"$| h_\\ell [k]|$ [dB]\")\nplt.xlim((0, filter_lengths[-1]))\nplt.grid(which='both')\n\ndigital_estimators_ref = DigitalEstimator(\n    byte_stream_2_control_signal(read_byte_stream_from_file(\n    '../a_getting_started/sinusodial_simulation.adc', M), M),\n    analog_system,\n    digital_control,\n    eta2,\n    stop_after_number_of_iterations >> 2,\n    1 << 14,\n    stop_after_number_of_iterations=stop_after_number_of_iterations\n)\n\nfor index, estimate in enumerate(digital_estimators_ref):\n    u_hat[index] = estimate\nf_ref, psd_ref = compute_power_spectral_density(u_hat)\n\nu_hats = []\nplt.rcParams['figure.figsize'] = [6.40, 6.40 * 4]\nfig, ax = plt.subplots(len(filter_lengths), 1)\nfor index_de in range(len(filter_lengths)):\n    # Compute estimates for each estimator\n    for index, estimate in enumerate(digital_estimators[index_de]):\n        u_hat[index] = estimate\n    u_hats.append(np.copy(u_hat))\n\n    # Compute power spectral density\n    f, psd = compute_power_spectral_density(\n        u_hat[filter_lengths[index_de]:])\n\n    # Plot the FIR filters\n    color = next(ax[index_de]._get_lines.prop_cycler)['color']\n\n    ax[index_de].grid(b=True, which='major',\n                      color='gray', alpha=0.6, lw=1.5)\n    ax[index_de].grid(b=True, which='major',\n                      color='gray', alpha=0.6, lw=1.5)\n\n    ax[index_de].semilogx(f_ref, 10 * np.log10(psd_ref),\n                          label=f'Reference', color='k')\n\n    ax[index_de].semilogx(f, 10 * np.log10(psd),\n                          label=f'K1=K2={filter_lengths[index_de]}',\n                          color=color)\n\n    ax[index_de].set_ylabel('$ \\mathrm{V}^2 \\, / \\, \\mathrm{Hz}$')\n\n    ax[index_de].legend()\n    ax[index_de].set_xlim((0.0002, 0.5))\n\nax[-1].set_xlabel('frequency [Hz]')\nfig.tight_layout()\n\n# Plot snapshot in time domain\nplt.rcParams['figure.figsize'] = [6.40, 6.40]\nplt.figure()\nplt.title(\"Estimates in time domain\")\nfor index in range(len(filter_lengths)):\n    t_fir = np.arange(-filter_lengths[index] + 1,\n                      stop_after_number_of_iterations - filter_lengths[index] + 1)\n    plt.plot(t_fir, u_hats[index],\n             label=f'K1=K2={filter_lengths[index]}')\nplt.ylabel('$\\hat{u}(t)$')\nplt.xlim((64000, 64600))\nplt.ylim((-0.6, 0.6))\nplt.xlabel(\"$t / T$\")\n_ = plt.legend()"
      ]
    }
  ],
  "metadata": {
    "kernelspec": {
      "display_name": "Python 3",
      "language": "python",
      "name": "python3"
    },
    "language_info": {
      "codemirror_mode": {
        "name": "ipython",
        "version": 3
      },
      "file_extension": ".py",
      "mimetype": "text/x-python",
      "name": "python",
      "nbconvert_exporter": "python",
      "pygments_lexer": "ipython3",
      "version": "3.8.5"
    }
  },
  "nbformat": 4,
  "nbformat_minor": 0
}