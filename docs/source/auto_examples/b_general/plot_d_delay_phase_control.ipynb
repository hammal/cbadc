{
  "cells": [
    {
      "cell_type": "code",
      "execution_count": null,
      "metadata": {
        "collapsed": false
      },
      "outputs": [],
      "source": [
        "%matplotlib inline"
      ]
    },
    {
      "cell_type": "markdown",
      "metadata": {},
      "source": [
        "\n# Using Phase Shifted Digital Control (draft)\n\nThis example shows the benefit of using the\nphase shifted digital control delay.\n"
      ]
    },
    {
      "cell_type": "code",
      "execution_count": null,
      "metadata": {
        "collapsed": false
      },
      "outputs": [],
      "source": [
        "import matplotlib.pyplot as plt\nimport numpy as np\nimport cbadc"
      ]
    },
    {
      "cell_type": "markdown",
      "metadata": {},
      "source": [
        "## The Analog System\n\nIn this example we commit to using a forth order leap-frog analog system,\nsee :py:class:`cbadc.analog_system.LeapFrog`.\n\n"
      ]
    },
    {
      "cell_type": "code",
      "execution_count": null,
      "metadata": {
        "collapsed": false
      },
      "outputs": [],
      "source": [
        "# We fix the number of analog states.\nN = 4\n# Set the amplification factor.\nbeta = 6250.\n# In this example, each nodes amplification and local feedback will be set\n# identically.\nbetaVec = beta * np.ones(N)\nrhoVec = -betaVec * 1e-2\nkappaVec = - beta * np.eye(N)\n\n# Instantiate a chain-of-integrators analog system.\nanalog_system = cbadc.analog_system.LeapFrog(betaVec, rhoVec, kappaVec)\n# print the analog system such that we can very it being correctly initalized.\nprint(analog_system)"
      ]
    },
    {
      "cell_type": "markdown",
      "metadata": {},
      "source": [
        "## The Digital Control\n\nwe use the delayed version :py:class:`cbadc.digital_control.PhaseDelayedControl`\nas well as the\n:py:class:`cbadc.digital_control.DigitalControl` for comparision.\n\n"
      ]
    },
    {
      "cell_type": "code",
      "execution_count": null,
      "metadata": {
        "collapsed": false
      },
      "outputs": [],
      "source": [
        "# Set the time period which determines how often the digital control updates.\nT = 1.0/(2 * beta)\n\n# Set the number of digital controls to be same as analog states.\nM = N\n# Initialize the digital control. Note that we decrease the control period by\n# M to have the same number of switches per unit-of-time as the reference.\ndigital_control_phase = cbadc.digital_control.PhaseDelayedControl(T / M, M)\ndigital_control_ref = cbadc.digital_control.DigitalControl(T, M)"
      ]
    },
    {
      "cell_type": "markdown",
      "metadata": {},
      "source": [
        "## The Analog Signal\n\nThe final and third component of the simulation is an analog signal.\nFor this tutorial, we will choose a\n:py:class:`cbadc.analog_signal.Sinusodial`.\n\n"
      ]
    },
    {
      "cell_type": "code",
      "execution_count": null,
      "metadata": {
        "collapsed": false
      },
      "outputs": [],
      "source": [
        "# Set the peak amplitude.\namplitude = 0.5\n# Choose the sinusodial frequency via an oversampling ratio (OSR).\nOSR = 1 << 9\nfrequency = 1.0 / (T * OSR)\n\n# We also specify a phase an offset these are hovewer optional.\nphase = np.pi / 3\noffset = 0.0\n\n# Instantiate the analog signal\nanalog_signal = cbadc.analog_signal.Sinusodial(\n    amplitude, frequency, phase, offset)\n# print to ensure correct parametrization.\nprint(analog_signal)"
      ]
    },
    {
      "cell_type": "markdown",
      "metadata": {},
      "source": [
        "## Simulating\n\nNext, we set up the simulator. Here we use the\n:py:class:`cbadc.simulator.StateSpaceSimulator` for simulating the\ninvolved differential equations as outlined in\n:py:class:`cbadc.analog_system.AnalogSystem`.\n\n\n"
      ]
    },
    {
      "cell_type": "code",
      "execution_count": null,
      "metadata": {
        "collapsed": false
      },
      "outputs": [],
      "source": [
        "size = 1 << 16\nend_time = T * (size + 100)\n\n# Instantiate the simulator.\nsimulator_phase = cbadc.simulator.StateSpaceSimulator(analog_system, digital_control_phase, [\n    analog_signal], t_stop=end_time)\nsimulator_ref = cbadc.simulator.StateSpaceSimulator(analog_system, digital_control_ref, [\n    analog_signal], t_stop=end_time)"
      ]
    },
    {
      "cell_type": "markdown",
      "metadata": {},
      "source": [
        "## Setting up the Digital Estimation Filters\n\n\n"
      ]
    },
    {
      "cell_type": "code",
      "execution_count": null,
      "metadata": {
        "collapsed": false
      },
      "outputs": [],
      "source": [
        "# Set the bandwidth of the estimator\n\neta2 = 1e4\n\n# Set the batch size\n\nK1_phase = 1 << 10\nK1_ref = K1_phase\n# K1_ref = K1_phase // M\n\n# Instantiate the digital estimator (this is where the filter coefficients are\n# computed).\n\ndigital_estimator_phase = cbadc.digital_estimator.FIRFilter(\n    analog_system, digital_control_phase, eta2, K1_phase, K1_phase)\ndigital_estimator_ref = cbadc.digital_estimator.FIRFilter(\n    analog_system, digital_control_ref, eta2, K1_ref, K1_ref)\n\n# Set control signal iterator\ndigital_estimator_phase(simulator_phase)\ndigital_estimator_ref(simulator_ref)"
      ]
    },
    {
      "cell_type": "markdown",
      "metadata": {},
      "source": [
        "## Simulating and Estimating\n\n\n"
      ]
    },
    {
      "cell_type": "code",
      "execution_count": null,
      "metadata": {
        "collapsed": false
      },
      "outputs": [],
      "source": [
        "sequence_length = size\n\nu_hat_phase = np.zeros(sequence_length)\nu_hat_ref = np.zeros(sequence_length)\n\nfor index in range(sequence_length):\n    u_hat_phase[index] = next(digital_estimator_phase)\n    u_hat_ref[index] = next(digital_estimator_ref)"
      ]
    },
    {
      "cell_type": "markdown",
      "metadata": {},
      "source": [
        "## Visualize in Time Domain\n\n\n"
      ]
    },
    {
      "cell_type": "code",
      "execution_count": null,
      "metadata": {
        "collapsed": false
      },
      "outputs": [],
      "source": [
        "t = np.arange(sequence_length // M) * T\nplt.plot(t, u_hat_phase[::M])\nplt.plot(t, u_hat_ref[:sequence_length // M])\nplt.xlabel('$t$')\nplt.ylabel('$\\hat{u}(t)$')\nplt.title(\"Estimated input signal\")\nplt.grid()\nplt.xlim((0, T * sequence_length // M))\nplt.ylim((-0.75, 0.75))\nplt.tight_layout()"
      ]
    },
    {
      "cell_type": "markdown",
      "metadata": {},
      "source": [
        "## Plotting the PSD\n\nAs is typical for delta-sigma modulators, we often visualize the performance\nof the estimate by plotting the power spectral density (PSD).\n\n"
      ]
    },
    {
      "cell_type": "code",
      "execution_count": null,
      "metadata": {
        "collapsed": false
      },
      "outputs": [],
      "source": [
        "f_phase, psd_phase = cbadc.utilities.compute_power_spectral_density(\n    u_hat_phase[K1_phase:], fs=1.0/digital_control_phase.T)\nf_ref, psd_ref = cbadc.utilities.compute_power_spectral_density(\n    u_hat_ref[K1_ref:], fs=1.0/digital_control_ref.T)\nplt.figure()\nplt.semilogx(f_phase, 10 * np.log10(psd_phase), label=\"Phase\")\nplt.semilogx(f_ref, 10 * np.log10(psd_ref), label=\"Ref\")\nplt.legend()\nplt.xlim((1e1, 0.5/digital_control_phase.T))\nplt.xlabel('frequency [Hz]')\nplt.ylabel('$ \\mathrm{V}^2 \\, / \\, \\mathrm{Hz}$')\nplt.grid(which='both')"
      ]
    }
  ],
  "metadata": {
    "kernelspec": {
      "display_name": "Python 3",
      "language": "python",
      "name": "python3"
    },
    "language_info": {
      "codemirror_mode": {
        "name": "ipython",
        "version": 3
      },
      "file_extension": ".py",
      "mimetype": "text/x-python",
      "name": "python",
      "nbconvert_exporter": "python",
      "pygments_lexer": "ipython3",
      "version": "3.8.5"
    }
  },
  "nbformat": 4,
  "nbformat_minor": 0
}