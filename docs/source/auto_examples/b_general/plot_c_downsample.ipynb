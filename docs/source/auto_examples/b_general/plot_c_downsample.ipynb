{
  "cells": [
    {
      "cell_type": "code",
      "execution_count": null,
      "metadata": {
        "collapsed": false
      },
      "outputs": [],
      "source": [
        "%matplotlib inline"
      ]
    },
    {
      "cell_type": "markdown",
      "metadata": {},
      "source": [
        "\n# Downsampling\n\nIn this tutorial we demonstrate how to configure the digital estimator\nfor downsampling.\n"
      ]
    },
    {
      "cell_type": "markdown",
      "metadata": {},
      "source": [
        "## Analog System\n\nFor this tutorial we will commit to a leap-frog control-bounded analog\nsystem.\n\n"
      ]
    },
    {
      "cell_type": "code",
      "execution_count": null,
      "metadata": {
        "collapsed": false
      },
      "outputs": [],
      "source": [
        "from cbadc.analog_system import LeapFrog\nfrom cbadc.digital_control import DigitalControl\nimport numpy as np\n\n\n# Determine system parameters\nN = 4\nM = N\nbeta = 6250\n# Set control period\nT = 1.0 / (2.0 * beta)\n# Adjust the feedback to achieve a bandwidth corresponding to OSR.\nOSR = 128\nomega_3dB = 2 * np.pi / (T * OSR)\n\n# Instantiate analog system.\nbeta_vec = beta * np.ones(N)\nrho_vec = - omega_3dB ** 2 / beta * np.ones(N)\nGamma = np.diag(-beta_vec)\nanalog_system = LeapFrog(beta_vec, rho_vec, Gamma)\n\nprint(analog_system, \"\\n\")"
      ]
    },
    {
      "cell_type": "markdown",
      "metadata": {},
      "source": [
        "## Analog Signal\n\nWe will also need an analog signal for conversion.\nIn this tutorial we will use a Sinusodial signal.\n\n"
      ]
    },
    {
      "cell_type": "code",
      "execution_count": null,
      "metadata": {
        "collapsed": false
      },
      "outputs": [],
      "source": [
        "from cbadc.analog_signal import Sinusodial\n\n# Set the peak amplitude.\namplitude = 1.0\n# Choose the sinusodial frequency via an oversampling ratio (OSR).\nfrequency = 1.0 / (T * OSR * (1 << 0))\n\n# We also specify a phase an offset these are hovewer optional.\nphase = 0.0\noffset = 0.0\n\n# Instantiate the analog signal\nanalog_signal = Sinusodial(amplitude, frequency, phase, offset)\n\nprint(analog_signal)"
      ]
    },
    {
      "cell_type": "markdown",
      "metadata": {},
      "source": [
        "## Simulating\n\nEach estimator will require an independent stream of control signals.\nTherefore, we will next instantiate several digital controls and simulators.\n\n"
      ]
    },
    {
      "cell_type": "code",
      "execution_count": null,
      "metadata": {
        "collapsed": false
      },
      "outputs": [],
      "source": [
        "from cbadc.simulator import StateSpaceSimulator\n\n# Set simulation precision parameters\natol = 1e-6\nrtol = 1e-12\nmax_step= T / 10.\n\n# Instantiate digital controls. We will need four of them as we will compare\n# four different estimators.\ndigital_control1 = DigitalControl(T, M)\ndigital_control2 = DigitalControl(T, M)\nprint(digital_control1)\n\n# Instantiate simulators.\nsimulator1 = StateSpaceSimulator(\n    analog_system,\n    digital_control1,\n    [analog_signal],\n    atol = atol,\n    rtol = rtol,\n    max_step = max_step\n)\nsimulator2 = StateSpaceSimulator(\n    analog_system,\n    digital_control2,\n    [analog_signal],\n    atol = atol,\n    rtol = rtol,\n    max_step = max_step\n)\nprint(simulator1)"
      ]
    },
    {
      "cell_type": "markdown",
      "metadata": {},
      "source": [
        "## Oversampling = 1\n\nFirst we initialize our default estimator without a downsampling parameter\nwhich then defaults to 1, i.e., no downsampling.\n\n"
      ]
    },
    {
      "cell_type": "code",
      "execution_count": null,
      "metadata": {
        "collapsed": false
      },
      "outputs": [],
      "source": [
        "from cbadc.digital_estimator import FIRFilter\n\n# Set the bandwidth of the estimator\nG_at_omega = np.linalg.norm(\n    analog_system.transfer_function_matrix(np.array([omega_3dB])))\neta2 = G_at_omega**2\nprint(f\"eta2 = {eta2}, {20 * np.log10(eta2)} [dB]\")\n\n# Set the filter size\nL1 = 1 << 13\nL2 = L1\n\n# Instantiate the digital estimator.\ndigital_estimator_ref = FIRFilter(\n    simulator1, analog_system, digital_control1, eta2, L1, L2)\n\nprint(digital_estimator_ref, \"\\n\")"
      ]
    },
    {
      "cell_type": "markdown",
      "metadata": {},
      "source": [
        "## Visualize Estimator's Transfer Function\n\n\n"
      ]
    },
    {
      "cell_type": "code",
      "execution_count": null,
      "metadata": {
        "collapsed": false
      },
      "outputs": [],
      "source": [
        "import matplotlib.pyplot as plt\n\n# Logspace frequencies\nfrequencies = np.logspace(-3, 0, 100)\nomega = 4 * np.pi * beta * frequencies\n\n# Compute NTF\nntf = digital_estimator_ref.noise_transfer_function(omega)\nntf_dB = 20 * np.log10(np.abs(ntf))\n\n# Compute STF\nstf = digital_estimator_ref.signal_transfer_function(omega)\nstf_dB = 20 * np.log10(np.abs(stf.flatten()))\n\n# Signal attenuation at the input signal frequency\nstf_at_omega = digital_estimator_ref.signal_transfer_function(\n    np.array([2 * np.pi * frequency]))[0]\n\n# Plot\nplt.figure()\nplt.semilogx(frequencies, stf_dB, label='$STF(\\omega)$')\nfor n in range(N):\n    plt.semilogx(frequencies, ntf_dB[0, n, :], label=f\"$|NTF_{n+1}(\\omega)|$\")\nplt.semilogx(frequencies, 20 * np.log10(np.linalg.norm(\n    ntf[0, :, :], axis=0)), '--', label=\"$ || NTF(\\omega) ||_2 $\")\n\n# Add labels and legends to figure\nplt.legend()\nplt.grid(which='both')\nplt.title(\"Signal and noise transfer functions\")\nplt.xlabel(\"$\\omega / (4 \\pi \\\\beta ) $\")\nplt.ylabel(\"dB\")\nplt.xlim((frequencies[1], frequencies[-1]))\nplt.gcf().tight_layout()"
      ]
    },
    {
      "cell_type": "markdown",
      "metadata": {},
      "source": [
        "## FIR Filter With Downsampling\n\nNext we repeat the initalization steps above but for a downsampled estimator\n\n"
      ]
    },
    {
      "cell_type": "code",
      "execution_count": null,
      "metadata": {
        "collapsed": false
      },
      "outputs": [],
      "source": [
        "digital_estimator_dow = FIRFilter(\n    simulator2,\n    analog_system,\n    digital_control2,\n    eta2,\n    L1,\n    L2,\n    downsample = OSR)\n\nprint(digital_estimator_dow, \"\\n\")"
      ]
    },
    {
      "cell_type": "markdown",
      "metadata": {},
      "source": [
        "## Estimating (Filtering)\n\n\n"
      ]
    },
    {
      "cell_type": "code",
      "execution_count": null,
      "metadata": {
        "collapsed": false
      },
      "outputs": [],
      "source": [
        "# Set simulation length\nsize = L2 << 4\nu_hat_ref = np.zeros(size)\nu_hat_dow = np.zeros(size // OSR)\nfor index in range(size):\n    u_hat_ref[index] = next(digital_estimator_ref)\nfor index in range(size // OSR):\n    u_hat_dow[index] = next(digital_estimator_dow)"
      ]
    },
    {
      "cell_type": "markdown",
      "metadata": {},
      "source": [
        "## Visualizing Results\n\nFinally, we summarize the comparision by visualizing the resulting estimate\nin both time and frequency domain.\n\n"
      ]
    },
    {
      "cell_type": "code",
      "execution_count": null,
      "metadata": {
        "collapsed": false
      },
      "outputs": [],
      "source": [
        "from cbadc.utilities import compute_power_spectral_density\n\n# compensate the built in L1 delay of FIR filter.\nt = np.arange(-L1 + 1, size - L1 + 1)\nt_down = np.arange(-L1//OSR + 1, (size - L1) // OSR + 1)\nu = np.zeros_like(u_hat_ref)\nfor index, tt in enumerate(t):\n    u[index] = analog_signal.evaluate( tt * T)\nplt.plot(t, u_hat_ref, label=\"$\\hat{u}(t)$ Reference\")\nplt.plot(t_down, u_hat_dow, label=\"$\\hat{u}(t)$ Downsampled\")\nplt.plot(t, stf_at_omega * u, label=\"$\\mathrm{STF}(2 \\pi f_u) * u(t)$\")\nplt.xlabel('$t / T$')\nplt.legend()\nplt.title(\"Estimated input signal\")\nplt.grid(which='both')\n# plt.xlim((-100, 500))\nplt.tight_layout()\n\nplt.figure()\nu_hat_ref_clipped = u_hat_ref[(L1 + L2):]\nu_hat_dow_clipped = u_hat_dow[(L1 + L2) // OSR:]\nf_ref, psd_ref = compute_power_spectral_density(\n  u_hat_ref_clipped, nperseg=1 << 12)\nf_dow, psd_dow = compute_power_spectral_density(\n    u_hat_dow_clipped, nperseg=1 << 12, fs=1.0/OSR)\nplt.semilogx(f_ref, 10 * np.log10(psd_ref), label=\"$\\hat{U}(f)$ Referefence\")\nplt.semilogx(f_dow, 10 * np.log10(psd_dow), label=\"$\\hat{U}(f)$ Downsampled\")\nplt.legend()\nplt.ylim((-200, 50))\nplt.xlim((f_ref[1], f_ref[-1]))\nplt.xlabel('frequency [Hz]')\nplt.ylabel('$ \\mathrm{V}^2 \\, / \\, (1 \\mathrm{Hz})$')\nplt.grid(which='both')\nplt.show()"
      ]
    }
  ],
  "metadata": {
    "kernelspec": {
      "display_name": "Python 3",
      "language": "python",
      "name": "python3"
    },
    "language_info": {
      "codemirror_mode": {
        "name": "ipython",
        "version": 3
      },
      "file_extension": ".py",
      "mimetype": "text/x-python",
      "name": "python",
      "nbconvert_exporter": "python",
      "pygments_lexer": "ipython3",
      "version": "3.8.5"
    }
  },
  "nbformat": 4,
  "nbformat_minor": 0
}