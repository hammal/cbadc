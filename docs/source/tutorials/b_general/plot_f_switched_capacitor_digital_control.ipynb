{
  "cells": [
    {
      "cell_type": "code",
      "execution_count": null,
      "metadata": {
        "collapsed": false
      },
      "outputs": [],
      "source": [
        "%matplotlib inline"
      ]
    },
    {
      "cell_type": "markdown",
      "metadata": {},
      "source": [
        "\n# Switched-Capacitor Digital Control\n\nIn this tutorial we show how to use switched-capacitor digital control\nin combination with a continuous-time system.\n"
      ]
    },
    {
      "cell_type": "code",
      "execution_count": null,
      "metadata": {
        "collapsed": false
      },
      "outputs": [],
      "source": [
        "import cbadc\nimport numpy as np\nimport matplotlib.pyplot as plt\n\nfrom cbadc import analog_system\nfrom cbadc import simulator"
      ]
    },
    {
      "cell_type": "markdown",
      "metadata": {},
      "source": [
        "## Integration Node\n\nInitially we consider a integration node as shown in the figure below.\n\n<img src=\"file://images/RC-amp.svg\" width=\"500\" align=\"center\" alt=\"The RC integrator with switched-capacitor digital control.\">\n\nWhich is goverened by the differetial equations\n\n$\\dot{v}_{x_{\\ell}}(t) = \\frac{1}{C_{x_{\\ell}}} \\left( \\frac{v_{\\Gamma_{\\ell}}(t) - v_{s_\\ell}(t)}{R_{s}} - \\frac{1}{R_{\\beta_\\ell}}  v_{x_{\\ell - 1}}(t) \\right)$\n\n$\\dot{v}_{\\Gamma_{\\ell}}(t) = \\frac{1}{2R_{s} C_{\\Gamma_{\\ell}}} \\left( v_{s_\\ell}(t) - v_{\\Gamma_{\\ell}}(t) \\right)$\n\nduring phase $\\phi_1$ and\n\n$\\dot{v}_{x_{\\ell}}(t)  =  - \\frac{1}{R_{\\beta_\\ell} C_{x_{\\ell}}} v_{x_{\\ell - 1}}(t)$\n\n$\\dot{v}_{\\Gamma_{\\ell}}(t) = - \\frac{1}{2 R_{s} C_{\\Gamma_{\\ell}}}  v_{\\Gamma_{\\ell}}(t)$\n\nduring phase $\\bar{\\phi}_1$ where a full control phase $T = T_{\\phi_1} + T_{\\bar{\\phi}_1}$.\n\nTo simulate this control-bounded converter we need to specify the whole system which for this\ntutorial will be a chain-of-integrators system as shown below.\n\n<img src=\"file://images/chainOfIntegratorsGeneral.svg\" width=\"1500\" align=\"center\" alt=\"The chain-of-integrators ADC.\">\n\nwhere the digital controls are implemented as above.\nThus the system equations can be written as\n\n"
      ]
    },
    {
      "cell_type": "code",
      "execution_count": null,
      "metadata": {
        "collapsed": false
      },
      "outputs": [],
      "source": [
        "N = 4\nM = N\n\nC_x = 1e-9\nC_Gamma = C_x / 2\nR_s = 100.0\nR_beta = 16e4\n\nbeta = 1 / (R_beta * C_x)\nT = 1 / (2 * beta)\n\nA = beta * np.eye(N, k=-1)\nB = np.zeros(N)\nB[0] = beta\nCT = np.eye(N)"
      ]
    },
    {
      "cell_type": "markdown",
      "metadata": {},
      "source": [
        "## Simplifying the Differential Equation\n\nDue to the virtual ground of the op-amp integrator we can treat the\nsecond differential equation (the one involving $v_{\\Gamma_\\ell}(t)$)\nseperately. Specifically, if we assume the\ncapacitor $C_{\\Gamma}$ empties completely during $\\bar{\\phi}_1$,\nand that $v_{s_\\ell} = \\{\\pm 1\\}$ for all $t$, the digital\ncontrol's effect on the analog system can be written as\n\n$v_{\\Gamma_\\ell}(t) - v_{s_\\ell}(t) = v_{s_\\ell}(t) \\cdot e^{-t/\\tau}$\n\nwhere $\\tau=R_s C_{\\Gamma_\\ell}$.\n\nThis can be modeled by instantiating the digital control\n:class:`cbadc.digital_control.DigitalControl`\nusing the impulse response :func:`cbadc.digital_control.RC_impulse_response`\nas\n\n"
      ]
    },
    {
      "cell_type": "code",
      "execution_count": null,
      "metadata": {
        "collapsed": false
      },
      "outputs": [],
      "source": [
        "impulse_response = lambda t: cbadc.digital_control.RC_impulse_response(t, R_s * C_Gamma)\ndigital_control_sc = cbadc.digital_control.DigitalControl(\n    T, M, impulse_response=impulse_response\n)\n\nGamma = 1 / (R_s * C_x) * np.eye(M)\nGamma_tildeT = -np.eye(M)\n\nanalog_system_sc = cbadc.analog_system.AnalogSystem(A, B, CT, Gamma, Gamma_tildeT)\n\nprint(digital_control_sc)\nprint(analog_system_sc)"
      ]
    },
    {
      "cell_type": "markdown",
      "metadata": {},
      "source": [
        "## Visualizing the State Trajectories\n\n\n"
      ]
    },
    {
      "cell_type": "code",
      "execution_count": null,
      "metadata": {
        "collapsed": false
      },
      "outputs": [],
      "source": [
        "analog_signal = cbadc.analog_signal.Sinusodial(1.0, 1 / T / 32)\nTs = T / 1000.0\nsize = 1 << 14\n\nsimulator_sc = cbadc.simulator.extended_simulation_result(\n    cbadc.simulator.StateSpaceSimulator(\n        analog_system_sc, digital_control_sc, [analog_signal], Ts=Ts\n    )\n)\n\n\nanalog_system_ref = cbadc.analog_system.AnalogSystem(\n    A, B, CT, np.eye(N) * beta, Gamma_tildeT\n)\ndigital_control_ref = cbadc.digital_control.DigitalControl(T, M)\nsimulator_ref = cbadc.simulator.extended_simulation_result(\n    cbadc.simulator.StateSpaceSimulator(\n        analog_system_ref, digital_control_ref, [analog_signal], Ts=Ts,\n    )\n)\n\nstates = np.zeros((size, N))\nstates_ref = np.zeros_like(states)\nt = Ts * np.arange(size)\n\n# Simulations\nfor time_step in cbadc.utilities.show_status(range(size)):\n    states[time_step, :] = next(simulator_sc)[\"analog_state\"]\n    states_ref[time_step, :] = next(simulator_ref)[\"analog_state\"]\n\n# Plot state trajectories\nfor index in range(N):\n    plt.figure()\n    plt.title(\"Analog state trajectories for \" + f\"$x_{index + 1}(t)$\")\n    plt.plot(t / T, states[:, index], label=f\"SC\")\n    plt.plot(t / T, states_ref[:, index], label=\"ref\")\n    plt.grid(b=True, which=\"major\", color=\"gray\", alpha=0.6, lw=1.5)\n    plt.xlabel(\"$t/T$\")\n    plt.legend()"
      ]
    },
    {
      "cell_type": "markdown",
      "metadata": {},
      "source": [
        "## Filter Coefficients\n\n\n"
      ]
    },
    {
      "cell_type": "code",
      "execution_count": null,
      "metadata": {
        "collapsed": false
      },
      "outputs": [],
      "source": [
        "eta2 = 1e4\nK1 = 1 << 8\nK2 = K1\n\n\n# prepending an anti-aliasing filter\nomega_3dB = 2 * np.pi * 1e3\nwp = omega_3dB / 2.0\nws = omega_3dB\ngpass = 1.0\ngstop = 60\nfilter = cbadc.analog_system.IIRDesign(wp, ws, gpass, gstop, ftype=\"ellip\")\n\n\ndigital_estimator_sc = cbadc.digital_estimator.FIRFilter(\n    cbadc.analog_system.chain([filter, analog_system_sc]),\n    digital_control_sc,\n    eta2,\n    K1,\n    K2,\n)\n\ndigital_estimator_ref = cbadc.digital_estimator.FIRFilter(\n    cbadc.analog_system.chain([filter, analog_system_ref]),\n    digital_control_ref,\n    eta2,\n    K1,\n    K2,\n)\n\nplt.figure()\nplt.semilogy(\n    np.arange(-K1, K2),\n    np.linalg.norm(np.array(digital_estimator_sc.h[0, :, :]), axis=1)[:],\n    label=\"Switched Capacitor Filter\",\n)\nplt.semilogy(\n    np.arange(-K1, K2),\n    np.linalg.norm(np.array(digital_estimator_ref.h[0, :, :]), axis=1)[:],\n    label=\"Ref Filter\",\n)\n\nplt.legend()\nplt.xlabel(\"filter tap k\")\nplt.ylabel(\"$|| \\mathbf{h} [k]||_2$\")\nplt.xlim((-K1, K2))\n# plt.ylim((1e-16, 1))\nplt.grid(which=\"both\")\n\n# Logspace frequencies\nfrequencies = np.logspace(-3, 0, 100)\nomega = 4 * np.pi * beta * frequencies\n\nplt.figure()\nplt.semilogx(\n    omega / (2 * np.pi),\n    20\n    * np.log10(np.abs(digital_estimator_sc.signal_transfer_function(omega))).flatten(),\n    label=\"$STF(\\omega)$ SC\",\n)\nplt.semilogx(\n    omega / (2 * np.pi),\n    20\n    * np.log10(np.abs(digital_estimator_ref.signal_transfer_function(omega))).flatten(),\n    label=\"$STF(\\omega)$ ref\",\n)\nplt.semilogx(\n    omega / (2 * np.pi),\n    20\n    * np.log10(\n        np.linalg.norm(\n            digital_estimator_sc.noise_transfer_function(omega)[:, 0, :], axis=0\n        )\n    ),\n    \"--\",\n    label=\"$ || NTF(\\omega) ||_2 $ SC\",\n)\nplt.semilogx(\n    omega / (2 * np.pi),\n    20\n    * np.log10(\n        np.linalg.norm(\n            digital_estimator_ref.noise_transfer_function(omega)[:, 0, :], axis=0\n        )\n    ),\n    \"--\",\n    label=\"$ || NTF(\\omega) ||_2 $ ref\",\n)\n# Add labels and legends to figure\nplt.legend()\nplt.grid(which=\"both\")\nplt.title(\"Signal and noise transfer functions\")\nplt.xlabel(\"$f$ [Hz]\")\nplt.ylabel(\"dB\")\nplt.xlim((1e2, 5e3))\nplt.gcf().tight_layout()"
      ]
    },
    {
      "cell_type": "markdown",
      "metadata": {},
      "source": [
        "## Mismatch Sensitivity to Switch Resistance\n\n\n\n"
      ]
    },
    {
      "cell_type": "code",
      "execution_count": null,
      "metadata": {
        "collapsed": false
      },
      "outputs": [],
      "source": [
        "# mismatch_in_percent = np.arange(2) * 100\n\n# size = 1 << 14\n# t = np.arange(size) * T\n\n# simulators = []\n# digital_estimators = []\n# estimates = []\n\n# for mismatch in mismatch_in_percent:\n#     digital_estimators.append(\n#         cbadc.digital_estimator.FIRFilter(\n#             cbadc.analog_system.chain([filter, analog_system]),\n#             cbadc.digital_control.DigitalControl(\n#                 T,\n#                 M,\n#                 impulse_response=lambda t: cbadc.digital_control.RC_impulse_response(\n#                     t, R_s * C_Gamma\n#                 ),\n#             ),\n#             eta2,\n#             K1,\n#             K2,\n#         )\n#     )\n#     digital_estimators[-1](\n#         cbadc.simulator.StateSpaceSimulator(\n#             cbadc.analog_system.AnalogSystem(\n#                 A,\n#                 B,\n#                 CT,\n#                 1 / ((1 + mismatch / 100) * R_s * C_x) * np.eye(M),\n#                 Gamma_tildeT,\n#             ),\n#             cbadc.digital_control.DigitalControl(\n#                 T,\n#                 M,\n#                 impulse_response=lambda t: cbadc.digital_control.RC_impulse_response(\n#                     t, (1 + mismatch / 100) * R_s * C_Gamma\n#                 ),\n#             ),\n#             [analog_signal],\n#             pre_compute_control_interactions=False,\n#         )\n#     )\n#     u_hat = np.zeros(size)\n#     for index in range(size):\n#         u_hat[index] = next(digital_estimators[-1])\n#     estimates.append(u_hat)\n\n# # Plot estimates in time domain\n# plt.figure()\n# plt.title(\"Estimates\")\n# for index, mismatch in enumerate(mismatch_in_percent):\n#     plt.plot(t / T, estimates[index], label=f\"Mismatch R_s {mismatch}%\")\n# plt.grid(b=True, which=\"major\", color=\"gray\", alpha=0.6, lw=1.5)\n# plt.xlabel(\"$t/T$\")\n# plt.xlim((K1 + K2, K1 + K2 + 100))\n# plt.legend()\n\n\n# # Plot estimates PSD\n# plt.figure()\n# plt.title(\"Estimates PSD\")\n# for index, mismatch in enumerate(mismatch_in_percent):\n#     f, psd = cbadc.utilities.compute_power_spectral_density(\n#         estimates[index][K1 + K2 :], fs=1.0 / T\n#     )\n#     plt.semilogx(f, 10 * np.log10(psd), label=f\"Mismatch R_s {mismatch}%\")\n# plt.grid(b=True, which=\"major\", color=\"gray\", alpha=0.6, lw=1.5)\n# plt.xlabel(\"f [Hz]\")\n# plt.ylabel(\"V^2/Hz [dB]\")\n# plt.legend()"
      ]
    },
    {
      "cell_type": "markdown",
      "metadata": {},
      "source": [
        "## Clock Jitter Sensitivity\n\n\n"
      ]
    },
    {
      "cell_type": "code",
      "execution_count": null,
      "metadata": {
        "collapsed": false
      },
      "outputs": [],
      "source": [
        "jitter_std = np.arange(4) * T * 0.1\nclock_jitter = [lambda: np.random.randn() * std for std in jitter_std]\n\nsize = 1 << 12\nt = np.arange(size) * T\n\nestimates = []\nestimates_ref = []\n\nfor jitter in clock_jitter:\n    digital_estimator_sc = cbadc.digital_estimator.FIRFilter(\n        cbadc.analog_system.chain([filter, analog_system_sc]),\n        digital_control_sc,\n        eta2,\n        K1,\n        K2,\n    )\n\n    digital_estimator_sc(\n        cbadc.simulator.StateSpaceSimulator(\n            analog_system_sc,\n            cbadc.digital_control.DigitalControl(\n                T,\n                M,\n                impulse_response=lambda t: cbadc.digital_control.RC_impulse_response(\n                    t, R_s * C_Gamma\n                ),\n                clock_jitter=jitter,\n            ),\n            [analog_signal],\n        )\n    )\n\n    digital_estimator_ref = cbadc.digital_estimator.FIRFilter(\n        cbadc.analog_system.chain([filter, analog_system_ref]),\n        cbadc.digital_control.DigitalControl(T, M),\n        eta2,\n        K1,\n        K2,\n    )\n\n    digital_estimator_ref(\n        cbadc.simulator.StateSpaceSimulator(\n            analog_system_ref,\n            cbadc.digital_control.DigitalControl(T, M, clock_jitter=jitter),\n            [analog_signal],\n        )\n    )\n\n    u_hat = np.zeros(size)\n    u_hat_ref = np.zeros_like(u_hat)\n    for index in range(size):\n        u_hat[index] = next(digital_estimator_sc)\n        u_hat_ref[index] = next(digital_estimator_ref)\n    estimates.append(u_hat)\n    estimates_ref.append(u_hat_ref)\n\n# Plot estimates in time domain\nplt.figure()\nplt.title(\"Estimates\")\nfor index, jitter in enumerate(clock_jitter):\n    plt.plot(\n        t / T, estimates[index], label=f\"Std / T = {np.round(jitter_std[index] / T, 2)}\"\n    )\nplt.grid(b=True, which=\"major\", color=\"gray\", alpha=0.6, lw=1.5)\nplt.xlabel(\"$t/T$\")\nplt.xlim((K1 + K2, K1 + K2 + 100))\nplt.legend()\n\n\n# Plot estimates PSD\nplt.figure()\nplt.title(\"Estimates PSD\")\nfor index, jitter in enumerate(clock_jitter):\n    f, psd = cbadc.utilities.compute_power_spectral_density(\n        estimates[index][K1 + K2 :], fs=1.0 / T\n    )\n    f_ref, psd_ref = cbadc.utilities.compute_power_spectral_density(\n        estimates_ref[index][K1 + K2 :], fs=1.0 / T\n    )\n    plt.semilogx(\n        f, 10 * np.log10(psd), label=f\"Std / T = {np.round(jitter_std[index] / T, 2)}\"\n    )\n    plt.semilogx(\n        f_ref,\n        10 * np.log10(psd_ref),\n        label=f\"Ref, Std / T = {np.round(jitter_std[index] / T, 2)}\",\n    )\nplt.grid(b=True, which=\"major\", color=\"gray\", alpha=0.6, lw=1.5)\nplt.xlabel(\"f [Hz]\")\nplt.ylabel(\"V^2/Hz [dB]\")\nplt.legend()"
      ]
    }
  ],
  "metadata": {
    "kernelspec": {
      "display_name": "Python 3",
      "language": "python",
      "name": "python3"
    },
    "language_info": {
      "codemirror_mode": {
        "name": "ipython",
        "version": 3
      },
      "file_extension": ".py",
      "mimetype": "text/x-python",
      "name": "python",
      "nbconvert_exporter": "python",
      "pygments_lexer": "ipython3",
      "version": "3.8.5"
    }
  },
  "nbformat": 4,
  "nbformat_minor": 0
}