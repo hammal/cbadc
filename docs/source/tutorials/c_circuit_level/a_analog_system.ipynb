{
  "cells": [
    {
      "cell_type": "code",
      "execution_count": null,
      "metadata": {
        "collapsed": false
      },
      "outputs": [],
      "source": [
        "%matplotlib inline"
      ]
    },
    {
      "cell_type": "markdown",
      "metadata": {},
      "source": [
        "\n# An Analog System Model\n\nWe demonstrate how an analog system can be transformed into a boilerplate\nverilog-ams circuit model.\n"
      ]
    },
    {
      "cell_type": "code",
      "execution_count": null,
      "metadata": {
        "collapsed": false
      },
      "outputs": [],
      "source": [
        "import cbadc\nimport numpy as np\nimport matplotlib.pyplot as plt"
      ]
    },
    {
      "cell_type": "markdown",
      "metadata": {},
      "source": [
        "## Setting up an Analog System\n\nWe start by instantiating an analag system. In this case we use\nhigh level utilities functions from the :py:mod:`cbadc.specification`\nmodule.\n\n\n"
      ]
    },
    {
      "cell_type": "code",
      "execution_count": null,
      "metadata": {
        "collapsed": false
      },
      "outputs": [],
      "source": [
        "# Fix system parameters such as effective number of bits\nENOB = 16\n# System order\nN = 4\n# Bandwidth\nBW = 1e6\n\n# Instantiate leap-frog analog system is created as\nanalog_system, _ = cbadc.specification.get_leap_frog(ENOB=ENOB, N=N, BW=BW)\n\n# Visualize the analog system's transfer functions\nBW_log = np.log10(BW)\nfrequencies = np.logspace(BW_log - 2, BW_log + 1, 500)\nomegas = 2 * np.pi * frequencies\ntransfer_function = analog_system.transfer_function_matrix(omegas)\nplt.semilogx(\n    frequencies,\n    20 * np.log10(np.linalg.norm(transfer_function[:, 0, :], axis=0)),\n    label=\"leap-frog $ ||\\mathbf{G}(\\omega)||_2 $\",\n)\n\n# Add labels and legends to figure\nplt.legend()\nplt.grid(which=\"both\")\nplt.title(\"Analog system transfer function\")\nplt.xlabel(\"$f$ [Hz]\")\nplt.ylabel(\"dB\")\nplt.xlim((frequencies[0], frequencies[-1]))\nplt.gcf().tight_layout()\nplt.show()"
      ]
    },
    {
      "cell_type": "markdown",
      "metadata": {},
      "source": [
        "## Instantiating a Circuit Level Model\n\nUsing the :py:mod:`cbadc.circuit_level` module we can now start turning our\nnominal analog system into a circuit level system model.\n\nWe will start with the highest layer of abstraction. Namely, the state space\nequations modeled directly using the verilog-ams language\n\n\n"
      ]
    },
    {
      "cell_type": "code",
      "execution_count": null,
      "metadata": {
        "collapsed": false
      },
      "outputs": [],
      "source": [
        "# verilog_analog_system = cbadc.circuit_level.AnalogSystemStateSpaceEquations(\n#     analog_system\n# )\n\n# # The verilog module description can be accessed by\n# print(verilog_analog_system.render())\n\n# # Alternatively, we can create a corresponding verilog-ams file as\n# verilog_analog_system.to_file(filename=\"verilog_analog_system.vams\")\n\n# # The created file can be :download:`downloaded here <verilog_analog_system.vams>`\n\n# ###############################################################################\n# # Op-amps\n# # -------\n# #\n# # Next we realize the same analog system using an ideal op-amp configuration\n# # with capacitive feedback.\n# #\n\n# C = 1e-12\n# ideal_op_amp_analog_system = cbadc.circuit_level.AnalogSystemIdealOpAmp(\n#     analog_system, C\n# )\n\n# # The verilog module description can be accessed by\n# print(ideal_op_amp_analog_system.render())\n\n# # Alternatively, we can create a corresponding verilog-ams file as\n# ideal_op_amp_analog_system.to_file(filename=\"ideal_op_amp_analog_system.vams\")"
      ]
    }
  ],
  "metadata": {
    "kernelspec": {
      "display_name": "Python 3",
      "language": "python",
      "name": "python3"
    },
    "language_info": {
      "codemirror_mode": {
        "name": "ipython",
        "version": 3
      },
      "file_extension": ".py",
      "mimetype": "text/x-python",
      "name": "python",
      "nbconvert_exporter": "python",
      "pygments_lexer": "ipython3",
      "version": "3.10.2"
    }
  },
  "nbformat": 4,
  "nbformat_minor": 0
}
