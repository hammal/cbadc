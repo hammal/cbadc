{
  "cells": [
    {
      "cell_type": "code",
      "execution_count": null,
      "metadata": {
        "collapsed": false
      },
      "outputs": [],
      "source": [
        "%matplotlib inline"
      ]
    },
    {
      "cell_type": "markdown",
      "metadata": {},
      "source": [
        "\n# Analog System\n\nWe demonstrate how an analog system can be transformed into a boilerplate\nverilog-ams circuit model.\n"
      ]
    },
    {
      "cell_type": "code",
      "execution_count": null,
      "metadata": {
        "collapsed": false
      },
      "outputs": [],
      "source": [
        "import cbadc\nimport numpy as np\nimport matplotlib.pyplot as plt"
      ]
    },
    {
      "cell_type": "markdown",
      "metadata": {},
      "source": [
        "## Setting up an Analog System\n\nWe start by instantiating an analag system. In this case we use\nhigh level utilities functions from the :py:mod:`cbadc.specification`\nmodule.\n\n\n"
      ]
    },
    {
      "cell_type": "code",
      "execution_count": null,
      "metadata": {
        "collapsed": false
      },
      "outputs": [],
      "source": [
        "# Fix system parameters such as effective number of bits\nENOB = 16\n# System order\nN = 4\n# Bandwidth\nBW = 1e6\n\n# Instantiate leap-frog analog system is created as\nanalog_frontend = cbadc.synthesis.get_leap_frog(ENOB=ENOB, N=N, BW=BW)\nanalog_system = analog_frontend.analog_system\n\n# Visualize the analog system's transfer functions\nBW_log = np.log10(BW)\nfrequencies = np.logspace(BW_log - 2, BW_log + 1, 500)\nomegas = 2 * np.pi * frequencies\ntransfer_function = analog_system.transfer_function_matrix(omegas)\nplt.semilogx(\n    frequencies,\n    20 * np.log10(np.linalg.norm(transfer_function[:, 0, :], axis=0)),\n    label=\"leap-frog $ ||\\mathbf{G}(\\omega)||_2 $\",\n)\n\n# Add labels and legends to figure\nplt.legend()\nplt.grid(which=\"both\")\nplt.title(\"Analog system transfer function\")\nplt.xlabel(\"$f$ [Hz]\")\nplt.ylabel(\"dB\")\nplt.xlim((frequencies[0], frequencies[-1]))\nplt.gcf().tight_layout()\nplt.show()"
      ]
    },
    {
      "cell_type": "markdown",
      "metadata": {},
      "source": [
        "## Instantiating a Circuit Level Model\n\nUsing the :py:mod:`cbadc.circuit_level` module we can now start turning our\nnominal analog system into a circuit level system model.\n\nWe will start with the highest layer of abstraction. Namely, the state space\nequations modeled directly using the verilog-ams language. This can\nbe done using the class :py:class:`cbadc.circuit_level.AnalogSystemStateSpaceEquations`\nas\n\n\n"
      ]
    },
    {
      "cell_type": "code",
      "execution_count": null,
      "metadata": {
        "collapsed": false
      },
      "outputs": [],
      "source": [
        "verilog_analog_system = cbadc.circuit_level.AnalogSystemStateSpaceEquations(\n    analog_system\n)\n\n# The verilog module description can be accessed by\nprint(\"\\n\\n\\n\".join(verilog_analog_system.render()[0]))\n\n# Alternatively, we can create a corresponding verilog-ams file as\nverilog_analog_system.to_file(filename=\"verilog_analog_system.vams\")"
      ]
    },
    {
      "cell_type": "markdown",
      "metadata": {},
      "source": [
        ":download:`verilog_analog_system.vams <verilog_analog_system.vams>`\n\n\n"
      ]
    },
    {
      "cell_type": "markdown",
      "metadata": {},
      "source": [
        "## Ideal Op-amp Implementation\n\nNext we realize the same analog system using an ideal op-amp configuration\nwith capacitive feedback.\n\n\n"
      ]
    },
    {
      "cell_type": "code",
      "execution_count": null,
      "metadata": {
        "collapsed": false
      },
      "outputs": [],
      "source": [
        "C = 1e-12\nideal_op_amp_analog_system = cbadc.circuit_level.AnalogSystemIdealOpAmp(\n    analog_system=analog_system, C=C\n)\n\n# The verilog module description can be accessed by\nprint(\"\\n\\n\\n\".join(ideal_op_amp_analog_system.render()[0]))\n\n# Alternatively, we can create a corresponding verilog-ams file as\nideal_op_amp_analog_system.to_file(filename=\"ideal_op_amp_analog_system.vams\")"
      ]
    },
    {
      "cell_type": "markdown",
      "metadata": {},
      "source": [
        ":download:`ideal_op_amp_analog_system.vams <ideal_op_amp_analog_system.vams>`\n\n\n"
      ]
    },
    {
      "cell_type": "markdown",
      "metadata": {},
      "source": [
        "Similarly, we can instantiate op-amp realizations that account for\nimperfections such as finite gain and first order pole.\n\n"
      ]
    },
    {
      "cell_type": "code",
      "execution_count": null,
      "metadata": {
        "collapsed": false
      },
      "outputs": [],
      "source": [
        "C = 1e-12\nA_DC = 1e2\nomega_p = 2 * np.pi * BW / 8\n\nfinite_gain_op_amp_analog_system = cbadc.circuit_level.AnalogSystemFiniteGainOpAmp(\n    analog_system=analog_system, C=C, A_DC=A_DC\n)\n\nfirst_order_pole_op_amp_analog_system = (\n    cbadc.circuit_level.AnalogSystemFirstOrderPoleOpAmp(\n        analog_system=analog_system, C=C, A_DC=A_DC, omega_p=omega_p\n    )\n)"
      ]
    },
    {
      "cell_type": "markdown",
      "metadata": {},
      "source": [
        "again the corresponding verilog files can be found below\n\n:download:`finite_gain_op_amp_analog_system.vams <finite_gain_op_amp_analog_system.vams>`,\n:download:`first_order_pole_op_amp_analog_system.vams <first_order_pole_op_amp_analog_system.vams>`\n\nand are generated using the :py:func:`cbadc.circuit_level.AnalogSystemFirstOrderPoleOpAmp.to_file`.\n\n\n"
      ]
    },
    {
      "cell_type": "code",
      "execution_count": null,
      "metadata": {
        "collapsed": false
      },
      "outputs": [],
      "source": [
        "finite_gain_op_amp_analog_system.to_file(\n    filename=\"finite_gain_op_amp_analog_system.vams\"\n)\n\nfirst_order_pole_op_amp_analog_system.to_file(\n    filename=\"first_order_pole_op_amp_analog_system.vams\"\n)"
      ]
    },
    {
      "cell_type": "markdown",
      "metadata": {},
      "source": [
        "## Reference Simulation\n\nThe primary intention of the :py:mod:`cbadc.circuit_level` module is to\nprovide golden models, correctly parameterized and instantiated in the\ncircuit level simulation domain. However, it might for some purposes be\ninteresting to see the effects of circuit imperfections directly within\nthe cbadc design tool itself.\n\nFor this purpose each circuit level analog system, like the ones we\nhave seen above, have an associated :py:class:`cbadc.analog_system.AnalogSystem`\nthat also any discrepancies from the target analog system with which it\nwas instantiated.\n\nTom demonstarte this second use case we will next compare the transfer\nfunctions of the analog systems we covered previously.\n\n\n"
      ]
    },
    {
      "cell_type": "code",
      "execution_count": null,
      "metadata": {
        "collapsed": false
      },
      "outputs": [],
      "source": [
        "# We don't consider the ideal_op_amp_analog_system and verilog_analog_system\n# instances as these will result in identical analog systems as our target\n# system.\n\ncompare_systems = {\n    'target': analog_system,\n    f'finite_gain, A_DC={A_DC:.0e}': finite_gain_op_amp_analog_system.analog_system,\n    f'single_pole, A_DC={A_DC:.0e}, f_p={omega_p/(2 * np.pi):.0e} Hz': first_order_pole_op_amp_analog_system.analog_system,\n}\n\nfor key, system in compare_systems.items():\n    print(system)\n    transfer_function = system.transfer_function_matrix(omegas)\n    plt.semilogx(\n        frequencies,\n        20 * np.log10(np.linalg.norm(transfer_function[:, 0, :], axis=0)),\n        label=f\"{key}, \" + \"$ ||\\mathbf{G}(\\omega)||_2 $\",\n    )\n\n# Add labels and legends to figure\nplt.legend()\nplt.grid(which=\"both\")\nplt.title(\"Analog system transfer function\")\nplt.xlabel(\"$f$ [Hz]\")\nplt.ylabel(\"dB\")\nplt.xlim((frequencies[0], frequencies[-1]))\nplt.gcf().tight_layout()"
      ]
    }
  ],
  "metadata": {
    "kernelspec": {
      "display_name": "Python 3",
      "language": "python",
      "name": "python3"
    },
    "language_info": {
      "codemirror_mode": {
        "name": "ipython",
        "version": 3
      },
      "file_extension": ".py",
      "mimetype": "text/x-python",
      "name": "python",
      "nbconvert_exporter": "python",
      "pygments_lexer": "ipython3",
      "version": "3.9.10"
    }
  },
  "nbformat": 4,
  "nbformat_minor": 0
}