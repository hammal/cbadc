{
  "cells": [
    {
      "cell_type": "code",
      "execution_count": null,
      "metadata": {
        "collapsed": false
      },
      "outputs": [],
      "source": [
        "%matplotlib inline"
      ]
    },
    {
      "cell_type": "markdown",
      "metadata": {},
      "source": [
        "\n# Thermal Noise Simulations\n\nIn this tutorial we demonstrate how to account for non-idealities\nin the design process.\n"
      ]
    },
    {
      "cell_type": "code",
      "execution_count": null,
      "metadata": {
        "collapsed": false
      },
      "outputs": [],
      "source": [
        "import cbadc\nimport numpy as np\nimport matplotlib.pyplot as plt\nimport copy\n\nnp.set_printoptions(precision=1)"
      ]
    },
    {
      "cell_type": "markdown",
      "metadata": {},
      "source": [
        "## Estimating the Noise Sensitivity of an Analog Frontend\n\n"
      ]
    },
    {
      "cell_type": "code",
      "execution_count": null,
      "metadata": {
        "collapsed": false
      },
      "outputs": [],
      "source": [
        "N = 5\nENOB = 16\nBW = 1e7\nSNR_dB = cbadc.fom.enob_to_snr(ENOB)\nsnr = cbadc.fom.snr_from_dB(SNR_dB)\nprint(f\"for an SNR: {SNR_dB:0.1f} dB\")\ninput_signal_power = 1 / 2.0"
      ]
    },
    {
      "cell_type": "markdown",
      "metadata": {},
      "source": [
        "### Setting up the Analog Frontend and Estimators\n\n"
      ]
    },
    {
      "cell_type": "code",
      "execution_count": null,
      "metadata": {
        "collapsed": false
      },
      "outputs": [],
      "source": [
        "analog_frontend = cbadc.synthesis.get_leap_frog(N=N, ENOB=ENOB, BW=BW)\nanalog_system = analog_frontend.analog_system\ndigital_control = analog_frontend.digital_control\n\nanalog_frontend_ref = cbadc.synthesis.get_leap_frog(N=N, ENOB=ENOB, BW=BW)\nanalog_system_ref = analog_frontend_ref.analog_system\ndigital_control_ref = analog_frontend_ref.digital_control\n\neta2 = (\n    np.linalg.norm(analog_system.transfer_function_matrix(np.array([2 * np.pi * BW])))\n    ** 2\n)\n\nK1 = 1 << 10\nK2 = 1 << 10\ndigital_estimator = cbadc.digital_estimator.BatchEstimator(\n    analog_system, digital_control, eta2, K1, K2\n)\ndigital_estimator_ref = cbadc.digital_estimator.BatchEstimator(\n    analog_system_ref, digital_control_ref, eta2, K1, K2\n)\n\nwhite_noise_sensitivies = digital_estimator.white_noise_sensitivities(\n    (BW * 1e-5, BW), snr, input_power=input_signal_power, spectrum=True\n)\n\nprint(\n    f\"These are the permissable white noise PSDs:\\n{white_noise_sensitivies[0,:]} V^2/Hz\\n{np.sqrt(white_noise_sensitivies[0,:])} V/sqrt(Hz)\"\n)"
      ]
    },
    {
      "cell_type": "markdown",
      "metadata": {},
      "source": [
        "### White Noise Limited Simulations\n\n"
      ]
    },
    {
      "cell_type": "code",
      "execution_count": null,
      "metadata": {
        "collapsed": false
      },
      "outputs": [],
      "source": [
        "plt.figure()\nsize = 1 << 14\nu_hat = np.zeros(size)\nu_hat_ref = np.zeros(size)\n\n# input_signals = [cbadc.analog_signal.ConstantSignal(0.1)]\ninput_signals = [\n    cbadc.analog_signal.Sinusoidal(1, 1 / (1024 * digital_control.clock.T))\n]\n\nfor index, thermal_snr_limit in enumerate(\n    np.array(\n        [\n            1e0,\n            1e2,\n            1e4,\n        ]\n    )\n):\n    noise_covariance_matrix = np.diag(\n        white_noise_sensitivies[0, :] * BW * thermal_snr_limit\n    )\n\n    digital_control.reset()\n    simulator = cbadc.simulator.PreComputedControlSignalsSimulator(\n        analog_system, digital_control, input_signals, cov_x=noise_covariance_matrix\n    )\n    digital_estimator(simulator)\n    digital_estimator.warm_up(K1 + K2)\n    for index in cbadc.utilities.show_status(range(size)):\n        u_hat[index] = next(digital_estimator)\n\n    u_hat_cut = u_hat[K1 + K2 :]\n    f, psd = cbadc.utilities.compute_power_spectral_density(\n        u_hat_cut[:], fs=1 / digital_control.clock.T, nperseg=u_hat_cut.size\n    )\n    signal_index = cbadc.utilities.find_sinusoidal(psd, 15)\n    noise_index = np.ones(psd.size, dtype=bool)\n    noise_index[signal_index] = False\n    noise_index[f < (BW * 1e-2)] = False\n    noise_index[f > BW] = False\n    fom = cbadc.utilities.snr_spectrum_computation_extended(\n        psd, signal_index, noise_index, fs=1 / digital_control.clock.T\n    )\n    est_SNR = cbadc.fom.snr_to_dB(fom['snr'])\n    est_ENOB = cbadc.fom.snr_to_enob(est_SNR)\n    plt.semilogx(\n        f,\n        10 * np.log10(np.abs(psd)),\n        label=f\"W_N_Limit={10 * np.log10(snr / thermal_snr_limit):.1f} dB, est_SNR={est_SNR:.1f} dB\",\n    )\n\n# Reference Simulation\n\nsimulator_ref = cbadc.simulator.PreComputedControlSignalsSimulator(\n    analog_system_ref, digital_control_ref, input_signals\n)\ndigital_estimator_ref(simulator_ref)\nfor index in cbadc.utilities.show_status(range(size)):\n    u_hat_ref[index] = next(digital_estimator_ref)\n\nu_hat_cut = u_hat_ref[K1 + K2 :]\nf, psd = cbadc.utilities.compute_power_spectral_density(\n    u_hat_cut[:], fs=1 / digital_control.clock.T, nperseg=u_hat_cut.size\n)\nsignal_index = cbadc.utilities.find_sinusoidal(psd, 15)\nnoise_index = np.ones(psd.size, dtype=bool)\nnoise_index[signal_index] = False\nnoise_index[f < (BW * 1e-2)] = False\nnoise_index[f > BW] = False\nfom = cbadc.utilities.snr_spectrum_computation_extended(\n    psd, signal_index, noise_index, fs=1 / digital_control.clock.T\n)\nest_SNR = cbadc.fom.snr_to_dB(fom['snr'])\nest_ENOB = cbadc.fom.snr_to_enob(est_SNR)\nplt.semilogx(\n    f,\n    10 * np.log10(np.abs(psd)),\n    label=f\"Ref, est_SNR={est_SNR:.1f} dB\",\n)\nplt.title(\"Power spectral density of input estimate\")\nplt.xlabel('Hz')\nplt.ylabel('$V^2$ / Hz dB')\nplt.ylim((-210, -40))\nplt.legend()\nplt.grid(which=\"both\")\nplt.gcf().tight_layout()"
      ]
    },
    {
      "cell_type": "markdown",
      "metadata": {},
      "source": [
        "## Circuit Level Thermal Noise Sizing\n\n\n"
      ]
    },
    {
      "cell_type": "code",
      "execution_count": null,
      "metadata": {
        "collapsed": false
      },
      "outputs": [],
      "source": [
        "analog_frontend = cbadc.synthesis.get_leap_frog(N=N, ENOB=ENOB, BW=BW)\nanalog_system = analog_frontend.analog_system\ndigital_control = analog_frontend.digital_control\n\nA_DC = 1e4\nomega_p = 2 * np.pi * BW\n\ndigital_estimator = cbadc.digital_estimator.BatchEstimator(\n    analog_system, digital_control, eta2, K1, K2\n)\n\nverilog_digital_control = cbadc.circuit_level.DigitalControl(\n    copy.deepcopy(digital_control)\n)\n\nfirst_order_pole_op_amp_analog_system = (\n    cbadc.circuit_level.AnalogSystemFirstOrderPoleOpAmp(\n        BW=(BW * 1e-5, BW),\n        target_snr=snr,\n        digital_estimator=digital_estimator,\n        A_DC=A_DC,\n        omega_p=omega_p,\n    )\n)\n\nfirst_order_pole_op_amp_analog_frontend = cbadc.circuit_level.AnalogFrontend(\n    first_order_pole_op_amp_analog_system, verilog_digital_control\n)\n\nt_stop = digital_control.clock.T * (size + K1 + K2)\nsimulation_clock = cbadc.analog_signal.Clock(digital_control.clock.T)\n\nfirst_order_pole_op_amp_testbench = cbadc.circuit_level.TestBench(\n    first_order_pole_op_amp_analog_frontend,\n    input_signals[0],\n    simulation_clock,\n    t_stop,\n)\n\nprint(f\"Capacitor values:\\n{first_order_pole_op_amp_analog_system.C_diag}\")\nprint(f\"\\n\\nResistor network A: {first_order_pole_op_amp_analog_system._A_G_matrix}\")\nprint(f\"\\n\\nResistor network B: {first_order_pole_op_amp_analog_system._B_G_matrix}\")\nprint(\n    f\"\\n\\nResistor network Gamma: {first_order_pole_op_amp_analog_system._Gamma_G_matrix}\"\n)"
      ]
    },
    {
      "cell_type": "markdown",
      "metadata": {},
      "source": [
        "### Plotting the Power Spectral Densities\n\n"
      ]
    },
    {
      "cell_type": "code",
      "execution_count": null,
      "metadata": {
        "collapsed": false
      },
      "outputs": [],
      "source": [
        "plt.figure()\ndigital_estimator = first_order_pole_op_amp_analog_frontend.get_estimator(\n    cbadc.digital_estimator.FIRFilter, eta2, K1, K2\n)\nwhite_noise_sensitivies = digital_estimator.white_noise_sensitivities(\n    (BW * 1e-5, BW), snr, input_power=input_signal_power, spectrum=True\n)\nprint(\n    f\"These are the permissable white noise PSDs:\\n{white_noise_sensitivies[0,:]} V^2/Hz\\n{np.sqrt(white_noise_sensitivies[0,:])} V/sqrt(Hz)\"\n)\nnoise_covariance_matrix = np.diag(white_noise_sensitivies[0, :] * BW)\nsimulator = first_order_pole_op_amp_testbench.get_simulator(\n    cbadc.simulator.SimulatorType.full_numerical, cov_x=noise_covariance_matrix\n)\ndigital_estimator(simulator)\nfor index in range(size):\n    u_hat[index] = next(digital_estimator)\nu_hat_cut = u_hat[K1 + K2 :]\nf, psd = cbadc.utilities.compute_power_spectral_density(\n    u_hat_cut[:], fs=1 / digital_control.clock.T, nperseg=u_hat_cut.size\n)\nsignal_index = cbadc.utilities.find_sinusoidal(psd, 15)\nnoise_index = np.ones(psd.size, dtype=bool)\nnoise_index[signal_index] = False\nnoise_index[f < (BW * 1e-2)] = False\nnoise_index[f > BW] = False\nfom = cbadc.utilities.snr_spectrum_computation_extended(\n    psd, signal_index, noise_index, fs=1 / digital_control.clock.T\n)\nest_SNR = cbadc.fom.snr_to_dB(fom['snr'])\nest_ENOB = cbadc.fom.snr_to_enob(est_SNR)\nplt.semilogx(\n    f,\n    10 * np.log10(np.abs(psd)),\n    label=f\"est_ENOB={est_ENOB:.1f} bits, est_SNR={est_SNR:.1f} dB\",\n)\n\n\nplt.title(\"Power spectral density of input estimate\")\nplt.xlabel('Hz')\nplt.ylabel('$V^2$ / Hz dB')\nplt.legend()\nplt.grid(which=\"both\")\n# plt.xlim((f[0], f[-1]))\nplt.gcf().tight_layout()"
      ]
    }
  ],
  "metadata": {
    "kernelspec": {
      "display_name": "Python 3",
      "language": "python",
      "name": "python3"
    },
    "language_info": {
      "codemirror_mode": {
        "name": "ipython",
        "version": 3
      },
      "file_extension": ".py",
      "mimetype": "text/x-python",
      "name": "python",
      "nbconvert_exporter": "python",
      "pygments_lexer": "ipython3",
      "version": "3.9.10"
    }
  },
  "nbformat": 4,
  "nbformat_minor": 0
}