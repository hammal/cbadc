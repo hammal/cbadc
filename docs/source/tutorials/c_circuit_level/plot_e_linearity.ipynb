{
  "cells": [
    {
      "cell_type": "code",
      "execution_count": null,
      "metadata": {
        "collapsed": false
      },
      "outputs": [],
      "source": [
        "%matplotlib inline"
      ]
    },
    {
      "cell_type": "markdown",
      "metadata": {},
      "source": [
        "\n# Linearity Simulations\n\nIn this tutorial we demonstrate how to account for non-idealities\nin the design process.\n"
      ]
    },
    {
      "cell_type": "code",
      "execution_count": null,
      "metadata": {
        "collapsed": false
      },
      "outputs": [],
      "source": [
        "import cbadc\nimport numpy as np\nimport matplotlib.pyplot as plt\n\nnp.set_printoptions(precision=1)"
      ]
    },
    {
      "cell_type": "markdown",
      "metadata": {},
      "source": [
        "## Simulate with non-linearities\n\n"
      ]
    },
    {
      "cell_type": "code",
      "execution_count": null,
      "metadata": {
        "collapsed": false
      },
      "outputs": [],
      "source": [
        "N = 5\nENOB = 12\nBW = 1e7\nSNR_dB = cbadc.fom.enob_to_snr(ENOB)\n\nsize = 1 << 14\nu_hat = np.zeros(size)\nu_hat_ref = np.zeros(size)\n\nanalog_frontend = cbadc.synthesis.get_leap_frog(N=N, ENOB=ENOB, BW=BW)\nanalog_frontend_ref = cbadc.synthesis.get_leap_frog(N=N, ENOB=ENOB, BW=BW)\n\neta2 = (\n    np.linalg.norm(\n        analog_frontend.analog_system.transfer_function_matrix(\n            np.array([2 * np.pi * BW])\n        )\n    )\n    ** 2\n)\nK1 = 1 << 10\nK2 = 1 << 10\n\ndigital_estimator = cbadc.digital_estimator.BatchEstimator(\n    analog_frontend.analog_system, analog_frontend.digital_control, eta2, K1, K2\n)\ndigital_estimator_ref = cbadc.digital_estimator.BatchEstimator(\n    analog_frontend_ref.analog_system, analog_frontend_ref.digital_control, eta2, K1, K2\n)"
      ]
    },
    {
      "cell_type": "markdown",
      "metadata": {},
      "source": [
        "### Specify non-linearities\n\nThe non-linearities are specified via the Taylor expansion as\n\n$\\dot{\\mathbf{x}}(t) = f(\\mathbf{x}, t) + \\frac{f'(\\mathbf{x}_0,t)}{1!}(\\mathbf{x} - \\mathbf{x}_0) + \\frac{f''(\\mathbf{x}_0,t)}{2!}(\\mathbf{x} - \\mathbf{x}_0)^2 + ...$\n\nwhere\n\n$f(\\mathbf{x}, t) = \\mathbf{A} \\mathbf{x}(t) + \\mathbf{B} \\mathbf{u}(t) + \\mathbf{\\Gamma} \\mathbf{s}(t)$\n\n$f^{\\ell}(\\mathbf{x}, t)$ referres to the $\\ell$-th derivative of $f(\\mathbf{x}, t)$\nwith respect to $\\mathbf{x}(t)$ and $\\mathbf{x}_0$ is an offset vector.\n\nin other words by specifying the $f^{\\ell}(\\mathbf{x}_0,t)$ column vectors we can simulate non-linearities.\n\n"
      ]
    },
    {
      "cell_type": "code",
      "execution_count": null,
      "metadata": {
        "collapsed": false
      },
      "outputs": [],
      "source": [
        "beta = 1 / (2 * analog_frontend.digital_control.clock.T)\nfunction_derivatives = np.array(\n    [\n        [1e-2 / beta, 1e-2 / (beta**2), 1e-2 / (beta**3), 1e-2 / (beta**4)],\n        [0, 0, 0, 0],\n        [0, 0, 0, 0],\n        [0, 0, 0, 0],\n        [0, 0, 0, 0],\n    ]\n)"
      ]
    },
    {
      "cell_type": "markdown",
      "metadata": {},
      "source": [
        "### Simulating\n\n\n"
      ]
    },
    {
      "cell_type": "code",
      "execution_count": null,
      "metadata": {
        "collapsed": false
      },
      "outputs": [],
      "source": [
        "input_signals = [\n    cbadc.analog_signal.Sinusoidal(\n        1, 1 / (1024 * analog_frontend.digital_control.clock.T)\n    )\n]\nsimulator = cbadc.simulator.NonLinearSimulator(\n    analog_frontend.analog_system,\n    analog_frontend.digital_control,\n    input_signals,\n    function_expansion=function_derivatives,\n)\nsimulator_ref = cbadc.simulator.FullSimulator(\n    analog_frontend_ref.analog_system,\n    analog_frontend_ref.digital_control,\n    input_signals,\n)\n\ndigital_estimator(simulator)\ndigital_estimator_ref(simulator_ref)\nfor index in range(size):\n    u_hat[index] = next(digital_estimator)\n    u_hat_ref[index] = next(digital_estimator_ref)"
      ]
    },
    {
      "cell_type": "markdown",
      "metadata": {},
      "source": [
        "### Visualizing\n\n\n"
      ]
    },
    {
      "cell_type": "code",
      "execution_count": null,
      "metadata": {
        "collapsed": false
      },
      "outputs": [],
      "source": [
        "plt.figure()\n\n# Ref\n\nu_hat_cut = u_hat_ref[K1 + K2 :]\nf, psd = cbadc.utilities.compute_power_spectral_density(\n    u_hat_cut[:], fs=1 / analog_frontend.digital_control.clock.T, nperseg=u_hat_cut.size\n)\nsignal_index = cbadc.utilities.find_sinusoidal(psd, 15)\nnoise_index = np.ones(psd.size, dtype=bool)\nnoise_index[signal_index] = False\nnoise_index[f < (BW * 1e-2)] = False\nnoise_index[f > BW] = False\nfom = cbadc.utilities.snr_spectrum_computation_extended(\n    psd, signal_index, noise_index, fs=1 / analog_frontend.digital_control.clock.T\n)\nest_SNR = cbadc.fom.snr_to_dB(fom['snr'])\nest_ENOB = cbadc.fom.snr_to_enob(est_SNR)\nplt.semilogx(\n    f,\n    10 * np.log10(np.abs(psd)),\n    label=f\"Ref, OSR={1/(2 * analog_frontend.digital_control.clock.T * BW):.0f}, est_ENOB={est_ENOB:.1f} bits, est_SNR={est_SNR:.1f} dB\",\n)\n\n\n# Est\nu_hat_cut = u_hat[K1 + K2 :]\nf, psd = cbadc.utilities.compute_power_spectral_density(\n    u_hat_cut[:], fs=1 / analog_frontend.digital_control.clock.T, nperseg=u_hat_cut.size\n)\nsignal_index = cbadc.utilities.find_sinusoidal(psd, 15)\nnoise_index = np.ones(psd.size, dtype=bool)\nnoise_index[signal_index] = False\nnoise_index[f < (BW * 1e-2)] = False\nnoise_index[f > BW] = False\nfom = cbadc.utilities.snr_spectrum_computation_extended(\n    psd, signal_index, noise_index, fs=1 / analog_frontend.digital_control.clock.T\n)\nest_SNR = cbadc.fom.snr_to_dB(fom['snr'])\nest_ENOB = cbadc.fom.snr_to_enob(est_SNR)\nplt.semilogx(\n    f,\n    10 * np.log10(np.abs(psd)),\n    label=f\"Est, OSR={1/(2 * analog_frontend.digital_control.clock.T * BW):.0f}, est_ENOB={est_ENOB:.1f} bits, est_SNR={est_SNR:.1f} dB\",\n)\n\nplt.title(\"Power spectral density of input estimate\")\nplt.xlabel('Hz')\nplt.ylabel('$V^2$ / Hz dB')\nplt.legend()\nplt.grid(which=\"both\")\n# plt.xlim((frequencies[0], frequencies[-1]))\nplt.gcf().tight_layout()"
      ]
    }
  ],
  "metadata": {
    "kernelspec": {
      "display_name": "Python 3",
      "language": "python",
      "name": "python3"
    },
    "language_info": {
      "codemirror_mode": {
        "name": "ipython",
        "version": 3
      },
      "file_extension": ".py",
      "mimetype": "text/x-python",
      "name": "python",
      "nbconvert_exporter": "python",
      "pygments_lexer": "ipython3",
      "version": "3.9.10"
    }
  },
  "nbformat": 4,
  "nbformat_minor": 0
}