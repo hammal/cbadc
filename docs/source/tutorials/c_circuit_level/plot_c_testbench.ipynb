{
  "cells": [
    {
      "cell_type": "code",
      "execution_count": null,
      "metadata": {
        "collapsed": false
      },
      "outputs": [],
      "source": [
        "%matplotlib inline"
      ]
    },
    {
      "cell_type": "markdown",
      "metadata": {},
      "source": [
        "\n# Testbench\n\nIn this tutorial we expand on the :doc:`./plot_b_analog_frontend`\ntutorial by adding a clock and input signal to the analog frontend.\nTogether, this makes up a full simulation environment where the\nanalog frontend can be evaluated through simulation. We refer to\nsuch a setup as a testbench.\n"
      ]
    },
    {
      "cell_type": "code",
      "execution_count": null,
      "metadata": {
        "collapsed": false
      },
      "outputs": [],
      "source": [
        "import cbadc\nimport numpy as np\nimport matplotlib.pyplot as plt\nimport copy"
      ]
    },
    {
      "cell_type": "markdown",
      "metadata": {},
      "source": [
        "## Analog System\n\n"
      ]
    },
    {
      "cell_type": "code",
      "execution_count": null,
      "metadata": {
        "collapsed": false
      },
      "outputs": [],
      "source": [
        "# Fix system parameters such as effective number of bits\nENOB = 16\n# System order\nN = 4\n# Bandwidth\nBW = 1e6\n\n# Instantiate leap-frog analog system is created as\nanalog_frontend_target = cbadc.synthesis.get_leap_frog(ENOB=ENOB, N=N, BW=BW)\ntarget_analog_system = analog_frontend_target.analog_system\ntarget_digital_control = analog_frontend_target.digital_control\n\nverilog_analog_system = cbadc.circuit_level.AnalogSystemStateSpaceEquations(\n    target_analog_system\n)\n\nC = 1e-12\nideal_op_amp_analog_system = cbadc.circuit_level.AnalogSystemIdealOpAmp(\n    analog_system=target_analog_system, C=C\n)\n\nA_DC = 2e2\nomega_p = 2 * np.pi * BW / 2\n\nfinite_gain_op_amp_analog_system = cbadc.circuit_level.AnalogSystemFiniteGainOpAmp(\n    analog_system=target_analog_system, C=C, A_DC=A_DC\n)\n\nfirst_order_pole_op_amp_analog_system = (\n    cbadc.circuit_level.AnalogSystemFirstOrderPoleOpAmp(\n        analog_system=target_analog_system, C=C, A_DC=A_DC, omega_p=omega_p\n    )\n)"
      ]
    },
    {
      "cell_type": "markdown",
      "metadata": {},
      "source": [
        "## Digital Control\n\nTo create a verilog-ams digital control model\nwe use :py:class:cbadc.circuit_level.digital_control.DigitalControl class\nas\n\n"
      ]
    },
    {
      "cell_type": "code",
      "execution_count": null,
      "metadata": {
        "collapsed": false
      },
      "outputs": [],
      "source": [
        "verilog_digital_control = cbadc.circuit_level.DigitalControl(\n    copy.deepcopy(target_digital_control)\n)"
      ]
    },
    {
      "cell_type": "markdown",
      "metadata": {},
      "source": [
        "## Analog Frontend\n\nSubsequently, the analog frontend can be pertained by the cbadc.circuit_level.AnalogFrontend\nclass as\n\n"
      ]
    },
    {
      "cell_type": "code",
      "execution_count": null,
      "metadata": {
        "collapsed": false
      },
      "outputs": [],
      "source": [
        "verilog_analog_frontend = cbadc.circuit_level.AnalogFrontend(\n    verilog_analog_system, copy.deepcopy(verilog_digital_control)\n)\n\nideal_op_amp_analog_frontend = cbadc.circuit_level.AnalogFrontend(\n    ideal_op_amp_analog_system, copy.deepcopy(verilog_digital_control)\n)\n\nfinite_gain_op_amp_analog_frontend = cbadc.circuit_level.AnalogFrontend(\n    finite_gain_op_amp_analog_system, copy.deepcopy(verilog_digital_control)\n)\n\nfirst_order_pole_op_amp_analog_frontend = cbadc.circuit_level.AnalogFrontend(\n    first_order_pole_op_amp_analog_system, copy.deepcopy(verilog_digital_control)\n)"
      ]
    },
    {
      "cell_type": "markdown",
      "metadata": {},
      "source": [
        "## Input Signal and Simulation Clock\n\nAs in the high level simulation case, we define an input signal\nand simulation clock\n\n"
      ]
    },
    {
      "cell_type": "code",
      "execution_count": null,
      "metadata": {
        "collapsed": false
      },
      "outputs": [],
      "source": [
        "amplitude = 1.0\nfrequency = 1.0 / target_digital_control.clock.T\nwhile frequency > BW:\n    frequency /= 2\ninput_signal = cbadc.analog_signal.Sinusoidal(amplitude, frequency)\nsimulation_clock = cbadc.analog_signal.Clock(target_digital_control.clock.T)"
      ]
    },
    {
      "cell_type": "markdown",
      "metadata": {},
      "source": [
        "## Testbench\n\nInstantiating the testbench reminds the simulation setup.\n\n\n"
      ]
    },
    {
      "cell_type": "code",
      "execution_count": null,
      "metadata": {
        "collapsed": false
      },
      "outputs": [],
      "source": [
        "# determine simulation endtime after 100000 digital control cycles.\nt_stop = target_digital_control.clock.T * 100000\n\nverilog_testbench = cbadc.circuit_level.TestBench(\n    verilog_analog_frontend, input_signal, simulation_clock, t_stop\n)\n\nideal_op_amp_testbench = cbadc.circuit_level.TestBench(\n    ideal_op_amp_analog_frontend, input_signal, simulation_clock, t_stop\n)\n\nfinite_gain_op_amp_testbench = cbadc.circuit_level.TestBench(\n    finite_gain_op_amp_analog_frontend, input_signal, simulation_clock, t_stop\n)\n\nfirst_order_pole_op_amp_testbench = cbadc.circuit_level.TestBench(\n    first_order_pole_op_amp_analog_frontend, input_signal, simulation_clock, t_stop\n)"
      ]
    },
    {
      "cell_type": "markdown",
      "metadata": {},
      "source": [
        "## Spice Scripts and Verilog Modules\n\nNext, the testbenches can be rendered into a spice testbench script\ntogether with the analog frontend verilog module.\n\n\n"
      ]
    },
    {
      "cell_type": "code",
      "execution_count": null,
      "metadata": {
        "collapsed": false
      },
      "outputs": [],
      "source": [
        "verilog_testbench.to_file(filename=\"verilog_testbench\")\n\nideal_op_amp_testbench.to_file(filename=\"ideal_op_amp_analog_testbench\")\n\nfinite_gain_op_amp_testbench.to_file(filename=\"finite_gain_op_amp_testbench\")\n\nfirst_order_pole_op_amp_testbench.to_file(filename=\"first_order_pole_op_amp_testbench\")"
      ]
    },
    {
      "cell_type": "markdown",
      "metadata": {},
      "source": [
        "where each generated file can be downloaded below\n\n:download:`verilog_testbench.txt <verilog_testbench.txt>`,\n:download:`verilog_analog_frontend.vams <verilog_analog_frontend.vams>`\n\n:download:`ideal_op_amp_analog_testbench.txt <ideal_op_amp_analog_testbench.txt>`,\n:download:`ideal_op_amp_analog_frontend.vams <ideal_op_amp_analog_frontend.vams>`\n\n:download:`finite_gain_op_amp_testbench.txt <finite_gain_op_amp_testbench.txt>`,\n:download:`finite_gain_op_amp_analog_frontend.vams <finite_gain_op_amp_analog_frontend.vams>`\n\n:download:`first_order_pole_op_amp_testbench.txt <first_order_pole_op_amp_testbench.txt>`,\n:download:`first_order_pole_op_amp_analog_frontend.vams <first_order_pole_op_amp_analog_frontend.vams>`\n\n"
      ]
    },
    {
      "cell_type": "markdown",
      "metadata": {},
      "source": [
        "## Simulation and Verification\n\n\n"
      ]
    },
    {
      "cell_type": "code",
      "execution_count": null,
      "metadata": {
        "collapsed": false
      },
      "outputs": [],
      "source": [
        "eta2 = (\n    np.linalg.norm(\n        target_analog_system.transfer_function_matrix(np.array([2 * np.pi * BW]))\n    )\n    ** 2\n)\nK1 = 1 << 12\nK2 = K1\n\ndigital_estimator_parameters = [cbadc.digital_estimator.FIRFilter, eta2, K1, K2]\nsimulation_type = cbadc.simulator.SimulatorType.full_numerical\n\ncompare_systems = {\n    'verilog_ideal': {\n        \"digital_estimator\": verilog_testbench.analog_frontend.get_estimator(\n            *digital_estimator_parameters\n        ),\n        \"simulator\": verilog_testbench.get_simulator(simulation_type),\n    },\n    'finite_gain op-amp': {\n        \"digital_estimator\": finite_gain_op_amp_testbench.analog_frontend.get_estimator(\n            *digital_estimator_parameters\n        ),\n        \"simulator\": finite_gain_op_amp_testbench.get_simulator(simulation_type),\n    },\n    'single_pole op-amp': {\n        \"digital_estimator\": first_order_pole_op_amp_testbench.analog_frontend.get_estimator(\n            *digital_estimator_parameters\n        ),\n        \"simulator\": first_order_pole_op_amp_testbench.get_simulator(simulation_type),\n    },\n}\nBW_log = np.log10(BW)\nfrequencies = np.logspace(BW_log - 2, BW_log + 1, 500)\nomegas = 2 * np.pi * frequencies\n\n# Plot digital estimators transfer functions\n\nfor key, system in compare_systems.items():\n    digital_estimator = system['digital_estimator']\n    # Compute STF\n    stf = digital_estimator.signal_transfer_function(omegas)\n    stf_dB = 20 * np.log10(np.abs(stf.flatten()))\n\n    plt.semilogx(frequencies, stf_dB, label=\"$|STF(\\omega)|$ \" + key)\n\nfor key, system in compare_systems.items():\n    digital_estimator = system['digital_estimator']\n    # Compute NTF\n    ntf = digital_estimator.noise_transfer_function(omegas)\n    ntf_dB = 20 * np.log10(np.abs(ntf))\n\n    plt.semilogx(\n        frequencies,\n        20 * np.log10(np.linalg.norm(ntf[0, :, :], axis=0)),\n        \"--\",\n        label=\"$ || NTF(\\omega) ||_2 $, \" + key,\n    )\n\n# Add labels and legends to figure\nplt.legend()\nplt.grid(which=\"both\")\nplt.title(\"Signal and noise transfer functions\")\nplt.xlabel(\"frequencies [Hz]\")\nplt.ylabel(\"dB\")\nplt.xlim((frequencies[0], frequencies[-1]))\nplt.gcf().tight_layout()\n\nsize = 1 << 15\nu_hat = np.zeros(size)\n\nplt.figure()\nfor key, system in compare_systems.items():\n    # Compute NTF\n    digital_estimator = system['digital_estimator']\n    simulator = system['simulator']\n    digital_estimator(simulator)\n    for index in range(size):\n        u_hat[index] = next(digital_estimator)\n    u_hat_cut = u_hat[K1 + K2 :]\n    f, psd = cbadc.utilities.compute_power_spectral_density(\n        u_hat_cut[:], fs=1 / target_digital_control.clock.T, nperseg=u_hat_cut.size\n    )\n    signal_index = cbadc.utilities.find_sinusoidal(psd, 15)\n    noise_index = np.ones(psd.size, dtype=bool)\n    noise_index[signal_index] = False\n    noise_index[f < (BW * 1e-2)] = False\n    noise_index[f > BW] = False\n    fom = cbadc.utilities.snr_spectrum_computation_extended(\n        psd, signal_index, noise_index, fs=1 / target_digital_control.clock.T\n    )\n    est_SNR = cbadc.fom.snr_to_dB(fom['snr'])\n    est_ENOB = cbadc.fom.snr_to_enob(est_SNR)\n    plt.semilogx(\n        f,\n        10 * np.log10(np.abs(psd)),\n        label=key + f\", est_ENOB={est_ENOB:.1f} bits, est_SNR={est_SNR:.1f} dB\",\n    )\n\n\nplt.title(\"Power spectral density of input estimate\")\nplt.xlabel('Hz')\nplt.ylabel('$V^2$ / Hz dB')\nplt.legend()\nplt.grid(which=\"both\")\nplt.xlim((frequencies[0], frequencies[-1]))\nplt.gcf().tight_layout()"
      ]
    }
  ],
  "metadata": {
    "kernelspec": {
      "display_name": "Python 3",
      "language": "python",
      "name": "python3"
    },
    "language_info": {
      "codemirror_mode": {
        "name": "ipython",
        "version": 3
      },
      "file_extension": ".py",
      "mimetype": "text/x-python",
      "name": "python",
      "nbconvert_exporter": "python",
      "pygments_lexer": "ipython3",
      "version": "3.9.10"
    }
  },
  "nbformat": 4,
  "nbformat_minor": 0
}