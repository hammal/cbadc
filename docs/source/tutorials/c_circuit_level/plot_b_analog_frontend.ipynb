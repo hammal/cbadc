{
  "cells": [
    {
      "cell_type": "code",
      "execution_count": null,
      "metadata": {
        "collapsed": false
      },
      "outputs": [],
      "source": [
        "%matplotlib inline"
      ]
    },
    {
      "cell_type": "markdown",
      "metadata": {},
      "source": [
        "\n# Analog Frontend\n\nIn this tutorial we will combine analog systems and digital controls\nto which we refer to as an analog frontend. The analog frontend, in\ncontrast to the digital estimator, contains mixed signals (analog and digital)\nand is therefore fundamentally different to model compared to the\ndigital estimator itself.\n\nTo create a analog fronted we require an analog system\nto that end we use a similair specification as in\n:doc:`./plot_a_analog_system`.\n"
      ]
    },
    {
      "cell_type": "code",
      "execution_count": null,
      "metadata": {
        "collapsed": false
      },
      "outputs": [],
      "source": [
        "import cbadc\nimport numpy as np\nimport matplotlib.pyplot as plt"
      ]
    },
    {
      "cell_type": "markdown",
      "metadata": {},
      "source": [
        "## Analog System\n\n"
      ]
    },
    {
      "cell_type": "code",
      "execution_count": null,
      "metadata": {
        "collapsed": false
      },
      "outputs": [],
      "source": [
        "# Fix system parameters such as effective number of bits\nENOB = 16\n# System order\nN = 4\n# Bandwidth\nBW = 1e6\n\n# Instantiate leap-frog analog system is created as\nanalog_frontend_target = cbadc.synthesis.get_leap_frog(ENOB=ENOB, N=N, BW=BW)\ntarget_analog_system = analog_frontend_target.analog_system\ntarget_digital_control = analog_frontend_target.digital_control\n\nverilog_analog_system = cbadc.circuit_level.AnalogSystemStateSpaceEquations(\n    target_analog_system\n)\n\nC = 1e-12\nideal_op_amp_analog_system = cbadc.circuit_level.AnalogSystemIdealOpAmp(\n    analog_system=target_analog_system, C=C\n)\n\nA_DC = 1e2\nomega_p = 2 * np.pi * BW\n\nfinite_gain_op_amp_analog_system = cbadc.circuit_level.AnalogSystemFiniteGainOpAmp(\n    analog_system=target_analog_system, C=C, A_DC=A_DC\n)\n\nfirst_order_pole_op_amp_analog_system = (\n    cbadc.circuit_level.AnalogSystemFirstOrderPoleOpAmp(\n        analog_system=target_analog_system, C=C, A_DC=A_DC, omega_p=omega_p\n    )\n)"
      ]
    },
    {
      "cell_type": "markdown",
      "metadata": {},
      "source": [
        "## Digital Control\n\nTo create a verilog-ams digital control model\nwe use :py:class:`cbadc.circuit_level.digital_control.DigitalControl` class\nas\n\n"
      ]
    },
    {
      "cell_type": "code",
      "execution_count": null,
      "metadata": {
        "collapsed": false
      },
      "outputs": [],
      "source": [
        "verilog_digital_control = cbadc.circuit_level.DigitalControl(target_digital_control)"
      ]
    },
    {
      "cell_type": "markdown",
      "metadata": {},
      "source": [
        "## Analog Frontend\n\nSubsequently, the analog frontend can be pertained by the cbadc.circuit_level.AnalogFrontend\nclass as\n\n"
      ]
    },
    {
      "cell_type": "code",
      "execution_count": null,
      "metadata": {
        "collapsed": false
      },
      "outputs": [],
      "source": [
        "verilog_analog_frontend = cbadc.circuit_level.AnalogFrontend(\n    verilog_analog_system, verilog_digital_control\n)\n\nideal_op_amp_analog_frontend = cbadc.circuit_level.AnalogFrontend(\n    ideal_op_amp_analog_system, verilog_digital_control\n)\n\nfinite_gain_op_amp_analog_frontend = cbadc.circuit_level.AnalogFrontend(\n    finite_gain_op_amp_analog_system, verilog_digital_control\n)\n\nfirst_order_pole_op_amp_analog_frontend = cbadc.circuit_level.AnalogFrontend(\n    first_order_pole_op_amp_analog_system, verilog_digital_control\n)"
      ]
    },
    {
      "cell_type": "markdown",
      "metadata": {},
      "source": [
        "## Verilog Modules\n\nThese analog frontends can now be converted directly into verilog-ams\nmodules as\n\n"
      ]
    },
    {
      "cell_type": "code",
      "execution_count": null,
      "metadata": {
        "collapsed": false
      },
      "outputs": [],
      "source": [
        "verilog_analog_frontend.to_file(filename=\"verilog_analog_frontend.vams\")\n\nideal_op_amp_analog_frontend.to_file(filename=\"ideal_op_amp_analog_frontend.vams\")\n\nfinite_gain_op_amp_analog_frontend.to_file(\n    filename=\"finite_gain_op_amp_analog_frontend.vams\"\n)\n\nfirst_order_pole_op_amp_analog_frontend.to_file(\n    filename=\"first_order_pole_op_amp_analog_frontend.vams\"\n)"
      ]
    },
    {
      "cell_type": "markdown",
      "metadata": {},
      "source": [
        "where each generated file can be downloaded below\n:download:`verilog_analog_frontend.vams <./verilog_analog_frontend.vams>`\n:download:`ideal_op_amp_analog_frontend.vams <./ideal_op_amp_analog_frontend.vams>`\n:download:`finite_gain_op_amp_analog_frontend.vams <./finite_gain_op_amp_analog_frontend.vams>`\n:download:`first_order_pole_op_amp_analog_frontend.vams <./first_order_pole_op_amp_analog_frontend.vams>`\n\n"
      ]
    },
    {
      "cell_type": "markdown",
      "metadata": {},
      "source": [
        "## Transfer Functions\n\nAs we did for the analog systems we plot the digital estimators corresponding\nnoise and signal transfer functions\n\nTo get the resulting digital estimator from an analog frontend we use the\nfunction :py:func:`cbadc.circuit_level.analog_frontend.AnalogFrontend.get_estimator`\nWhich requires us to pass an digital estimator class together with an eta2, K1, and\nK2 value.\n\n"
      ]
    },
    {
      "cell_type": "code",
      "execution_count": null,
      "metadata": {
        "collapsed": false
      },
      "outputs": [],
      "source": [
        "eta2 = (\n    np.linalg.norm(\n        target_analog_system.transfer_function_matrix(np.array([2 * np.pi * BW]))\n    )\n    ** 2\n)\nK1 = 1 << 8\nK2 = K1\n\ndigital_estimator_parameters = [cbadc.digital_estimator.FIRFilter, eta2, K1, K2]\n\ncompare_systems = {\n    'verilog_ideal': verilog_analog_frontend.get_estimator(\n        *digital_estimator_parameters\n    ),\n    'finite_gain op-amp': finite_gain_op_amp_analog_frontend.get_estimator(\n        *digital_estimator_parameters\n    ),\n    'single_pole op-amp': first_order_pole_op_amp_analog_frontend.get_estimator(\n        *digital_estimator_parameters\n    ),\n}\nBW_log = np.log10(BW)\nfrequencies = np.logspace(BW_log - 2, BW_log + 1, 500)\nomegas = 2 * np.pi * frequencies\n\nfor key, digital_estimator in compare_systems.items():\n\n    # Compute STF\n    stf = digital_estimator.signal_transfer_function(omegas)\n    stf_dB = 20 * np.log10(np.abs(stf.flatten()))\n\n    plt.semilogx(frequencies, stf_dB, label=\"$|STF(\\omega)|$ \" + key)\n\nfor key, digital_estimator in compare_systems.items():\n    # Compute NTF\n    ntf = digital_estimator.noise_transfer_function(omegas)\n    ntf_dB = 20 * np.log10(np.abs(ntf))\n\n    plt.semilogx(\n        frequencies,\n        20 * np.log10(np.linalg.norm(ntf[0, :, :], axis=0)),\n        \"--\",\n        label=\"$ || NTF(\\omega) ||_2 $, \" + key,\n    )\n\n# Add labels and legends to figure\n\nplt.legend()\nplt.grid(which=\"both\")\nplt.title(\"Signal and noise transfer functions\")\nplt.xlabel(\"frequencies [Hz]\")\nplt.ylabel(\"dB\")\nplt.xlim((frequencies[0], frequencies[-1]))\nplt.gcf().tight_layout()"
      ]
    },
    {
      "cell_type": "markdown",
      "metadata": {},
      "source": [
        "## Impulse Responses\n\nWe also compare the resulting filters impulse responses\n\n"
      ]
    },
    {
      "cell_type": "code",
      "execution_count": null,
      "metadata": {
        "collapsed": false
      },
      "outputs": [],
      "source": [
        "for key, digital_estimator in compare_systems.items():\n    plt.plot(\n        np.arange(-K1, K2),\n        np.array(digital_estimator.h[0, :, 0])[:],\n        label=key,\n    )\nplt.legend()\nplt.xlabel(\"filter tap k\")\nplt.ylabel(\"$ h_1 [k] $\")\nplt.xlim((-K1, K2))\nplt.grid(which=\"both\")\n\nplt.figure()\nfor key, digital_estimator in compare_systems.items():\n    plt.semilogy(\n        np.arange(-K1, K2),\n        np.abs(np.array(digital_estimator.h[0, :, 0]))[:],\n        label=key,\n    )\nplt.legend()\nplt.xlabel(\"filter tap k\")\nplt.ylabel(\"$| h_1 [k] \\|$\")\nplt.xlim((-K1, K2))\nplt.grid(which=\"both\")"
      ]
    }
  ],
  "metadata": {
    "kernelspec": {
      "display_name": "Python 3",
      "language": "python",
      "name": "python3"
    },
    "language_info": {
      "codemirror_mode": {
        "name": "ipython",
        "version": 3
      },
      "file_extension": ".py",
      "mimetype": "text/x-python",
      "name": "python",
      "nbconvert_exporter": "python",
      "pygments_lexer": "ipython3",
      "version": "3.9.10"
    }
  },
  "nbformat": 4,
  "nbformat_minor": 0
}