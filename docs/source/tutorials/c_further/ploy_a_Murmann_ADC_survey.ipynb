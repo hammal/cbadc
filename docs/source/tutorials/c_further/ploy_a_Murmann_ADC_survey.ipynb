{
  "cells": [
    {
      "cell_type": "code",
      "execution_count": null,
      "metadata": {
        "collapsed": false
      },
      "outputs": [],
      "source": [
        "%matplotlib inline"
      ]
    },
    {
      "cell_type": "markdown",
      "metadata": {},
      "source": [
        "\n# The Murmann ADC Survey\n\nThis notebook demonstrate the main\nfunctionality of the :py:class:`cbadc.fom.MurmannSurvey` convenience class\nwhich lets you interact with Murmann's ADC Survey\nusing a :py:class:`pandas.DataFrame`.\n"
      ]
    },
    {
      "cell_type": "code",
      "execution_count": null,
      "metadata": {
        "collapsed": false
      },
      "outputs": [],
      "source": [
        "import cbadc.fom\nimport matplotlib.pyplot as plt\nplt.rcParams[\"figure.figsize\"] = [16, 10]  # modify default size of plot\n\nadc_survey = cbadc.fom.MurmannSurvey()"
      ]
    },
    {
      "cell_type": "markdown",
      "metadata": {},
      "source": [
        "## Printing Data\n\nTo simply output the whole database we access the internal\ndb attribute and use the :py:attr:`pandas.DataFrame.style`\nattribute.\n\n"
      ]
    },
    {
      "cell_type": "code",
      "execution_count": null,
      "metadata": {
        "collapsed": false
      },
      "outputs": [],
      "source": [
        "print(adc_survey.db.style)"
      ]
    },
    {
      "cell_type": "markdown",
      "metadata": {},
      "source": [
        "## Generating the Standard Illustrations\n\nThe :py:class:`cbadc.fom.MurmannSurvey` contains several\nconvenience functions to quickly generate the standard figures\nfrom the ADC survey.\n\n"
      ]
    },
    {
      "cell_type": "code",
      "execution_count": null,
      "metadata": {
        "collapsed": false
      },
      "outputs": [],
      "source": [
        "# Plot the energy plot\nax = adc_survey.energy()\n# we could at this point manipulate the\n# axis object (adding more plots, chainging scalings, setting x- and y-limits, etc.)\n\n# Similarly, we can generate the aperture, Walden FoM vs speed, and Schreier FoM vs speed\n# equivalently.\n_ = adc_survey.aperture()\n_ = adc_survey.walden_vs_speed()\n_ = adc_survey.schreier_vs_speed()\n\nplt.show()"
      ]
    }
  ],
  "metadata": {
    "kernelspec": {
      "display_name": "Python 3",
      "language": "python",
      "name": "python3"
    },
    "language_info": {
      "codemirror_mode": {
        "name": "ipython",
        "version": 3
      },
      "file_extension": ".py",
      "mimetype": "text/x-python",
      "name": "python",
      "nbconvert_exporter": "python",
      "pygments_lexer": "ipython3",
      "version": "3.8.5"
    }
  },
  "nbformat": 4,
  "nbformat_minor": 0
}
