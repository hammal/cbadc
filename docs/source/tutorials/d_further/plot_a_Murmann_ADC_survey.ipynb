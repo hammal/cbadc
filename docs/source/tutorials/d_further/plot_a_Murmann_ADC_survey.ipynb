{
  "cells": [
    {
      "cell_type": "code",
      "execution_count": null,
      "metadata": {
        "collapsed": false
      },
      "outputs": [],
      "source": [
        "%matplotlib inline"
      ]
    },
    {
      "cell_type": "markdown",
      "metadata": {},
      "source": [
        "\n# The Murmann Survey\n\nThis notebook demonstrate the main\nfunctionality of the :py:class:`cbadc.fom.MurmannSurvey` convenience class\nwhich lets you interact with Murmann's ADC Survey\nusing a :py:class:`pandas.DataFrame`.\n"
      ]
    },
    {
      "cell_type": "code",
      "execution_count": null,
      "metadata": {
        "collapsed": false
      },
      "outputs": [],
      "source": [
        "import cbadc.fom\n\nadc_survey = cbadc.fom.MurmannSurvey()\n\n# Get info for the resulting dataset\nadc_survey.db.info()"
      ]
    },
    {
      "cell_type": "markdown",
      "metadata": {},
      "source": [
        "## Printing Data\n\nTo simply output the whole database we access the internal\ndb attribute and use the :py:attr:`pandas.DataFrame.style`\nattribute as ``adc_survey.db.style``\n\nFuthermore, one of the key feature of pandas is that we\ncan easily search through our data. For example we can\nisolate all publications with an FoMS_hf >= 180 dB\nby commands of the following style.\n\n"
      ]
    },
    {
      "cell_type": "code",
      "execution_count": null,
      "metadata": {
        "collapsed": false
      },
      "outputs": [],
      "source": [
        "# get all column names\nprint(f\"Columns: {adc_survey.columns()}\")\n\nonly_185dB_FoMS = adc_survey.db[adc_survey.db['FOMS_hf [dB]'] >= 180]\n\n# It's also possible to output these (sorted and with selected columns) in text format as\n\nonly_185dB_FoMS[['FOMS_hf [dB]', 'AUTHORS', 'TITLE', 'YEAR', 'CONFERENCE']].sort_values(\n    'FOMS_hf [dB]', ascending=False\n).style.format(precision=1)"
      ]
    },
    {
      "cell_type": "markdown",
      "metadata": {},
      "source": [
        "## Generating the Standard Illustrations\n\nThe :py:class:`cbadc.fom.MurmannSurvey` contains several\nconvenience functions to quickly generate the standard figures\nfrom the ADC survey.\n\n"
      ]
    },
    {
      "cell_type": "code",
      "execution_count": null,
      "metadata": {
        "collapsed": false
      },
      "outputs": [],
      "source": [
        "# Plot the energy plot\nax = adc_survey.energy()\n# we could at this point manipulate the\n# axis object (adding more plots, chainging scalings, setting x- and y-limits, etc.)\n\n# Similarly, we can generate the aperture, Walden FoM vs speed, and Schreier FoM vs speed\n# equivalently.\n_ = adc_survey.aperture()\n_ = adc_survey.walden_vs_speed()\n_ = adc_survey.schreier_vs_speed()"
      ]
    },
    {
      "cell_type": "markdown",
      "metadata": {},
      "source": [
        "## Plotting and Extracting Within ENOB and Nyquist frequency range\n\nWe can also use the :py:class:`cbadc.fom.MurmannSurvey.awht` to\nquickly plot and extract relevant publications within a bandwidth\nand ENOB range\n\n"
      ]
    },
    {
      "cell_type": "code",
      "execution_count": null,
      "metadata": {
        "collapsed": false
      },
      "outputs": [],
      "source": [
        "bw = (5e5, 1e7)\nenob = (11, 13)\nselected_publications = adc_survey.select_bw_and_enob(bw, enob).sort_values(\n    'P/fsnyq [pJ]', ascending=True\n)\n\n# Make a scatter plot of area vs power\nax = selected_publications.plot.scatter('P [W]', 'AREA [mm^2]')\nax.set_yscale('log')\nax.set_xscale('log')\nax.set_title(\"Area vs Power for ENOB=[11,13) and BW=[0.5MHz, 10MHz)\")\nax.grid(True, which=\"both\")\n\n# Print some attributes of the selected subset\nselected_publications[\n    [\n        'P/fsnyq [pJ]',\n        'SNR [dB]',\n        'fsnyq [Hz]',\n        'P [W]',\n        'ARCHITECTURE',\n        'AUTHORS',\n        'TITLE',\n        'YEAR',\n    ]\n].style.format(precision=1)"
      ]
    }
  ],
  "metadata": {
    "kernelspec": {
      "display_name": "Python 3",
      "language": "python",
      "name": "python3"
    },
    "language_info": {
      "codemirror_mode": {
        "name": "ipython",
        "version": 3
      },
      "file_extension": ".py",
      "mimetype": "text/x-python",
      "name": "python",
      "nbconvert_exporter": "python",
      "pygments_lexer": "ipython3",
      "version": "3.9.10"
    }
  },
  "nbformat": 4,
  "nbformat_minor": 0
}