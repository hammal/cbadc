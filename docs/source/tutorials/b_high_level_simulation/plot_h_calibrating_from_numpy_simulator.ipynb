{
  "cells": [
    {
      "cell_type": "code",
      "execution_count": null,
      "metadata": {
        "collapsed": false
      },
      "outputs": [],
      "source": [
        "%matplotlib inline"
      ]
    },
    {
      "cell_type": "markdown",
      "metadata": {},
      "source": [
        "\n# Calibrating an Unknown Op-Amp Pole from Data\n"
      ]
    },
    {
      "cell_type": "code",
      "execution_count": null,
      "metadata": {
        "collapsed": false
      },
      "outputs": [],
      "source": [
        "import cbadc\nimport numpy as np\nimport matplotlib.pyplot as plt\nimport copy"
      ]
    },
    {
      "cell_type": "markdown",
      "metadata": {},
      "source": [
        "## Setup proxy simulators from numpy data\n\n\n"
      ]
    },
    {
      "cell_type": "code",
      "execution_count": null,
      "metadata": {
        "collapsed": false
      },
      "outputs": [],
      "source": [
        "specification_false = cbadc.utilities.pickle_load('op-amp_data/AS_PARAMS_FALSE.dict')\nspecification_ref = cbadc.utilities.pickle_load('op-amp_data/AS_PARAMS_TRUE.dict')\nT = specification_ref['T']\nBW = specification_ref['fc']\nN = specification_false['N']\nM = N + 1\n\nctrl_bits_test_uncalibrated = iter(np.load('op-amp_data/s_test.npy'))\nctrl_bits_test_ref = iter(np.load('op-amp_data/s_test.npy'))\nctrl_bits_test_cal = cbadc.simulator.NumpySimulator('op-amp_data/s_test.npy')\nctrl_bits_train = cbadc.simulator.NumpySimulator('op-amp_data/s_train.npy')"
      ]
    },
    {
      "cell_type": "markdown",
      "metadata": {},
      "source": [
        "## Instantiate Analog Systems, Digital Controls, and Nominal FIR Filters\n\n\n"
      ]
    },
    {
      "cell_type": "code",
      "execution_count": null,
      "metadata": {
        "collapsed": false
      },
      "outputs": [],
      "source": [
        "analog_system = cbadc.analog_system.AnalogSystem(\n    specification_false['A'],\n    specification_false['B'],\n    np.eye(specification_false['N']),\n    specification_false['Gamma'],\n    specification_false['Gamma'].transpose(),\n)\nanalog_system_ref = cbadc.analog_system.AnalogSystem(\n    specification_ref['A'],\n    specification_ref['B'],\n    np.eye(specification_ref['N']),\n    specification_ref['Gamma'],\n    specification_ref['Gamma'].transpose(),\n)\n\ndigital_control = cbadc.digital_control.DigitalControl(\n    cbadc.analog_signal.Clock(specification_false['T']), M\n)\ndigital_control_ref = cbadc.digital_control.DigitalControl(\n    cbadc.analog_signal.Clock(specification_ref['T']), M\n)\n\neta2 = (\n    np.linalg.norm(\n        analog_system_ref.transfer_function_matrix(\n            np.array([2 * np.pi * specification_ref['fc']])\n        )\n    )\n    ** 2\n)\nK1 = 1 << 8\nK2 = K1\n\nfir_filter = cbadc.digital_estimator.FIRFilter(\n    analog_system, digital_control, eta2, K1, K2\n)\n\nfir_filter_ref = cbadc.digital_estimator.FIRFilter(\n    analog_system_ref, digital_control_ref, eta2, K1, K2\n)"
      ]
    },
    {
      "cell_type": "markdown",
      "metadata": {},
      "source": [
        "## Setup testing simulations for verification\n\n\n"
      ]
    },
    {
      "cell_type": "code",
      "execution_count": null,
      "metadata": {
        "collapsed": false
      },
      "outputs": [],
      "source": [
        "# Ref\nuncalibrated_filter = copy.deepcopy(fir_filter)\nuncalibrated_filter(ctrl_bits_test_uncalibrated)\n\n\nfir_filter_ref(ctrl_bits_test_ref)\n\n\nsize = 1 << 14\nu_hat_ref = np.zeros(size)\nu_hat_uncalibrated = np.zeros(size)\nfor index in range(size):\n    u_hat_ref[index] = next(fir_filter_ref)\n    u_hat_uncalibrated[index] = next(uncalibrated_filter)\nu_hat_cut_ref = u_hat_ref[K1 + K2 :]\nu_hat_cut_uncalibrated = u_hat_uncalibrated[K1 + K2 :]"
      ]
    },
    {
      "cell_type": "markdown",
      "metadata": {},
      "source": [
        "## Instantiate adaptive filter and set buffer training data size\n\n\n"
      ]
    },
    {
      "cell_type": "code",
      "execution_count": null,
      "metadata": {
        "collapsed": false
      },
      "outputs": [],
      "source": [
        "training_data_size = 1 << 15 - 1\nadaptive_filter = cbadc.digital_estimator.AdaptiveFilter(\n    fir_filter, 0, training_data_size\n)"
      ]
    },
    {
      "cell_type": "markdown",
      "metadata": {},
      "source": [
        "## Instantiate the training instance\n\n\n"
      ]
    },
    {
      "cell_type": "code",
      "execution_count": null,
      "metadata": {
        "collapsed": false
      },
      "outputs": [],
      "source": [
        "calibrator = cbadc.digital_calibration.Calibration(\n    adaptive_filter, ctrl_bits_train, ctrl_bits_test_cal\n)"
      ]
    },
    {
      "cell_type": "markdown",
      "metadata": {},
      "source": [
        "## Train adaptive filter\n\nthis step could potentially be repeated many times\n\n\n"
      ]
    },
    {
      "cell_type": "code",
      "execution_count": null,
      "metadata": {
        "collapsed": false
      },
      "outputs": [],
      "source": [
        "epochs = 1 << 16\n\n\ndef step_size(x):\n    return 1e-1 / ((1 + x ** (0.01)))\n\n\nbatch_size = 1 << 6\n\ncalibrator.compute_step_size_template()\ncalibrator.train(epochs, step_size, batch_size, stochastic_delay=0)"
      ]
    },
    {
      "cell_type": "markdown",
      "metadata": {},
      "source": [
        "## Print training statistics and plot training error\n\nthis step could potentially be repeated many times\n\n\n"
      ]
    },
    {
      "cell_type": "code",
      "execution_count": null,
      "metadata": {
        "collapsed": false
      },
      "outputs": [],
      "source": [
        "print(calibrator.stats())\ncalibrator.plot_test_accuracy()"
      ]
    },
    {
      "cell_type": "markdown",
      "metadata": {},
      "source": [
        "## Extract testing estimate\n\n\n"
      ]
    },
    {
      "cell_type": "code",
      "execution_count": null,
      "metadata": {
        "collapsed": false
      },
      "outputs": [],
      "source": [
        "u_hat = calibrator.test(size)"
      ]
    },
    {
      "cell_type": "markdown",
      "metadata": {},
      "source": [
        "## Visualise PSD of testing data\n\n\n"
      ]
    },
    {
      "cell_type": "code",
      "execution_count": null,
      "metadata": {
        "collapsed": false
      },
      "outputs": [],
      "source": [
        "# uncalibrated\nf, psd = cbadc.utilities.compute_power_spectral_density(\n    u_hat_cut_uncalibrated[:],\n    fs=1 / digital_control.clock.T,\n    nperseg=u_hat_cut_uncalibrated.size,\n)\nsignal_index = cbadc.utilities.find_sinusoidal(psd, 15)\nnoise_index = np.ones(psd.size, dtype=bool)\nnoise_index[signal_index] = False\nnoise_index[f < (BW * 1e-2)] = False\nnoise_index[f > BW] = False\nfom = cbadc.utilities.snr_spectrum_computation_extended(\n    psd, signal_index, noise_index, fs=1 / digital_control.clock.T\n)\nest_SNR = cbadc.fom.snr_to_dB(fom['snr'])\nest_ENOB = cbadc.fom.snr_to_enob(est_SNR)\nplt.semilogx(\n    f,\n    10 * np.log10(np.abs(psd)),\n    label=f\"Uncalibrated, est_ENOB={est_ENOB:.1f} bits, est_SNR={est_SNR:.1f} dB\",\n)\n\n# Ref\nf, psd = cbadc.utilities.compute_power_spectral_density(\n    u_hat_cut_ref[:], fs=1 / digital_control.clock.T, nperseg=u_hat_cut_ref.size\n)\nsignal_index = cbadc.utilities.find_sinusoidal(psd, 15)\nnoise_index = np.ones(psd.size, dtype=bool)\nnoise_index[signal_index] = False\nnoise_index[f < (BW * 1e-2)] = False\nnoise_index[f > BW] = False\nfom = cbadc.utilities.snr_spectrum_computation_extended(\n    psd, signal_index, noise_index, fs=1 / digital_control.clock.T\n)\nest_SNR = cbadc.fom.snr_to_dB(fom['snr'])\nest_ENOB = cbadc.fom.snr_to_enob(est_SNR)\nplt.semilogx(\n    f,\n    10 * np.log10(np.abs(psd)),\n    label=f\"Ref, est_ENOB={est_ENOB:.1f} bits, est_SNR={est_SNR:.1f} dB\",\n)\n\n# Calibrated Est\nf, psd = cbadc.utilities.compute_power_spectral_density(\n    u_hat[:], fs=1 / digital_control.clock.T, nperseg=u_hat.size\n)\nsignal_index = cbadc.utilities.find_sinusoidal(psd, 15)\nnoise_index = np.ones(psd.size, dtype=bool)\nnoise_index[signal_index] = False\nnoise_index[f < (BW * 1e-2)] = False\nnoise_index[f > BW] = False\nfom = cbadc.utilities.snr_spectrum_computation_extended(\n    psd, signal_index, noise_index, fs=1 / digital_control.clock.T\n)\nest_SNR = cbadc.fom.snr_to_dB(fom['snr'])\nest_ENOB = cbadc.fom.snr_to_enob(est_SNR)\nplt.semilogx(\n    f,\n    10 * np.log10(np.abs(psd)),\n    label=f\"Calibrated, est_ENOB={est_ENOB:.1f} bits, est_SNR={est_SNR:.1f} dB\",\n)\n\nplt.title(\"Power spectral density of input estimate\")\nplt.xlabel('Hz')\nplt.ylabel('$V^2$ / Hz dB')\nplt.legend()\nplt.grid(which=\"both\")\nplt.gcf().tight_layout()"
      ]
    }
  ],
  "metadata": {
    "kernelspec": {
      "display_name": "Python 3",
      "language": "python",
      "name": "python3"
    },
    "language_info": {
      "codemirror_mode": {
        "name": "ipython",
        "version": 3
      },
      "file_extension": ".py",
      "mimetype": "text/x-python",
      "name": "python",
      "nbconvert_exporter": "python",
      "pygments_lexer": "ipython3",
      "version": "3.9.10"
    }
  },
  "nbformat": 4,
  "nbformat_minor": 0
}