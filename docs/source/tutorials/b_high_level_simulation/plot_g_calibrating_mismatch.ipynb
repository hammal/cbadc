{
  "cells": [
    {
      "cell_type": "code",
      "execution_count": null,
      "metadata": {
        "collapsed": false
      },
      "outputs": [],
      "source": [
        "%matplotlib inline"
      ]
    },
    {
      "cell_type": "markdown",
      "metadata": {},
      "source": [
        "\n# Calibrating Component Variations\n"
      ]
    },
    {
      "cell_type": "code",
      "execution_count": null,
      "metadata": {
        "collapsed": false
      },
      "outputs": [],
      "source": [
        "import cbadc\nimport numpy as np\nimport matplotlib.pyplot as plt"
      ]
    },
    {
      "cell_type": "markdown",
      "metadata": {},
      "source": [
        "## Design a nominal and mismatched analog system\n\n\n"
      ]
    },
    {
      "cell_type": "code",
      "execution_count": null,
      "metadata": {
        "collapsed": false
      },
      "outputs": [],
      "source": [
        "# Fix system parameters such as effective number of bits\nENOB = 13\n# System order\nN = 4\n# Bandwidth\nBW = 1e6\n\nrandom_control_scale = 1e-1\n\n# Instantiate leap-frog analog system is created as\nanalog_frontend = cbadc.synthesis.get_leap_frog(ENOB=ENOB, N=N, BW=BW)\nanalog_system = analog_frontend.analog_system\ndigital_control = analog_frontend.digital_control\nanalog_frontend_ref = cbadc.synthesis.get_leap_frog(ENOB=ENOB, N=N, BW=BW)\nanalog_system_ref = analog_frontend_ref.analog_system\ndigital_control_ref = analog_frontend_ref.digital_control\n\nref_vector = np.zeros((N, 1))\nref_vector[0] = analog_system.Gamma[0, 0] * random_control_scale\n\nanalog_system = cbadc.analog_system.AnalogSystem(\n    analog_system.A,\n    analog_system.B,\n    analog_system.CT,\n    np.hstack((ref_vector, analog_system.Gamma)),\n    analog_system.Gamma_tildeT,\n)\n\nmismatch = 1.1\n\nanalog_system_distorted = cbadc.analog_system.AnalogSystem(\n    analog_system.A * mismatch,\n    analog_system.B * mismatch,\n    analog_system.CT,\n    analog_system.Gamma * mismatch,\n    analog_system.Gamma_tildeT,\n)"
      ]
    },
    {
      "cell_type": "markdown",
      "metadata": {},
      "source": [
        "## Setup digital control and nominal estimator\n\n\n"
      ]
    },
    {
      "cell_type": "code",
      "execution_count": null,
      "metadata": {
        "collapsed": false
      },
      "outputs": [],
      "source": [
        "eta2 = (\n    np.linalg.norm(analog_system.transfer_function_matrix(np.array([2 * np.pi * BW])))\n    ** 2\n)\nK1 = 1 << 10\nK2 = K1\n\ncalibration_control = cbadc.digital_control.DitherControl(1, digital_control)\n\nfir_filter = cbadc.digital_estimator.FIRFilter(\n    analog_system, calibration_control, eta2, K1, K2\n)"
      ]
    },
    {
      "cell_type": "markdown",
      "metadata": {},
      "source": [
        "## Setup testing simulations for verification\n\n\n"
      ]
    },
    {
      "cell_type": "code",
      "execution_count": null,
      "metadata": {
        "collapsed": false
      },
      "outputs": [],
      "source": [
        "# Ref\namplitude = 5e-1\nfrequency = 1.0 / digital_control.clock.T\nwhile frequency > BW:\n    frequency /= 2\ninput_signal_ref = cbadc.analog_signal.Sinusoidal(amplitude, frequency)\n\n# A version for uncalibrated\nuncalibrated_control = cbadc.digital_control.DitherControl(\n    1, cbadc.digital_control.DigitalControl(digital_control.clock, N)\n)\nuncalibrated_sim = cbadc.simulator.get_simulator(\n    analog_system_distorted,\n    uncalibrated_control,\n    [input_signal_ref],\n)\nuncalibrated_filter = cbadc.digital_estimator.FIRFilter(\n    analog_system, uncalibrated_control, eta2, K1, K2\n)\nuncalibrated_filter(uncalibrated_sim)\n\n# A version assuming perfect system knowledge\nsimulator_ver_ref = cbadc.simulator.get_simulator(\n    analog_system_ref,\n    digital_control_ref,\n    [input_signal_ref],\n)\nref_filter = cbadc.digital_estimator.FIRFilter(\n    analog_system_ref, digital_control_ref, eta2, K1, K2\n)\nref_filter(simulator_ver_ref)\n\n\n# Generate verification estimates\nsize = 1 << 14\nu_hat_ref = np.zeros(size)\nu_hat_uncalibrated = np.zeros(size)\nfor index in range(size):\n    u_hat_ref[index] = next(ref_filter)\n    u_hat_uncalibrated[index] = next(uncalibrated_filter)\nu_hat_cut_ref = u_hat_ref[K1 + K2 :]\nu_hat_cut_uncalibrated = u_hat_uncalibrated[K1 + K2 :]"
      ]
    },
    {
      "cell_type": "markdown",
      "metadata": {},
      "source": [
        "## Generate a testing simulator for calibration\n\n\n"
      ]
    },
    {
      "cell_type": "code",
      "execution_count": null,
      "metadata": {
        "collapsed": false
      },
      "outputs": [],
      "source": [
        "analog_signal_cal = cbadc.analog_signal.ConstantSignal(0)\nsimulator_cal = cbadc.simulator.get_simulator(\n    analog_system_distorted,\n    calibration_control,\n    [analog_signal_cal],\n)\nsimulator_test = cbadc.simulator.get_simulator(\n    analog_system_distorted,\n    calibration_control,\n    [input_signal_ref],\n)"
      ]
    },
    {
      "cell_type": "markdown",
      "metadata": {},
      "source": [
        "## Instantiate adaptive filter and set buffer training data size\n\n\n"
      ]
    },
    {
      "cell_type": "code",
      "execution_count": null,
      "metadata": {
        "collapsed": false
      },
      "outputs": [],
      "source": [
        "training_data_size = 1 << 15\nadaptive_filter = cbadc.digital_estimator.AdaptiveFilter(\n    fir_filter, 0, training_data_size\n)"
      ]
    },
    {
      "cell_type": "markdown",
      "metadata": {},
      "source": [
        "## Instantiate the training instance\n\n\n"
      ]
    },
    {
      "cell_type": "code",
      "execution_count": null,
      "metadata": {
        "collapsed": false
      },
      "outputs": [],
      "source": [
        "calibrator = cbadc.digital_calibration.Calibration(\n    adaptive_filter, simulator_cal, simulator_test\n)"
      ]
    },
    {
      "cell_type": "markdown",
      "metadata": {},
      "source": [
        "## Train adaptive filter\n\nthis step could potentially be repeated many times\n\n\n"
      ]
    },
    {
      "cell_type": "code",
      "execution_count": null,
      "metadata": {
        "collapsed": false
      },
      "outputs": [],
      "source": [
        "epochs = 1 << 16\n\n\ndef step_size(x):\n    return 1e-1 / ((1 + x ** (0.01)))\n\n\nbatch_size = 1 << 6\n\ncalibrator.compute_step_size_template()\ncalibrator.train(epochs, step_size, batch_size, stochastic_delay=0)"
      ]
    },
    {
      "cell_type": "markdown",
      "metadata": {},
      "source": [
        "## Print training statistics and plot training error\n\nthis step could potentially be repeated many times\n\n\n"
      ]
    },
    {
      "cell_type": "code",
      "execution_count": null,
      "metadata": {
        "collapsed": false
      },
      "outputs": [],
      "source": [
        "print(calibrator.stats())\ncalibrator.plot_test_accuracy()"
      ]
    },
    {
      "cell_type": "markdown",
      "metadata": {},
      "source": [
        "## Extract testing estimate\n\n\n"
      ]
    },
    {
      "cell_type": "code",
      "execution_count": null,
      "metadata": {
        "collapsed": false
      },
      "outputs": [],
      "source": [
        "u_hat = calibrator.test(size)"
      ]
    },
    {
      "cell_type": "markdown",
      "metadata": {},
      "source": [
        "## Visualise PSD of testing data\n\n\n"
      ]
    },
    {
      "cell_type": "code",
      "execution_count": null,
      "metadata": {
        "collapsed": false
      },
      "outputs": [],
      "source": [
        "# uncalibrated\nf, psd = cbadc.utilities.compute_power_spectral_density(\n    u_hat_cut_uncalibrated[:],\n    fs=1 / uncalibrated_control.clock.T,\n    nperseg=u_hat_cut_uncalibrated.size,\n)\nsignal_index = cbadc.utilities.find_sinusoidal(psd, 15)\nnoise_index = np.ones(psd.size, dtype=bool)\nnoise_index[signal_index] = False\nnoise_index[f < (BW * 1e-2)] = False\nnoise_index[f > BW] = False\nfom = cbadc.utilities.snr_spectrum_computation_extended(\n    psd, signal_index, noise_index, fs=1 / uncalibrated_control.clock.T\n)\nest_SNR = cbadc.fom.snr_to_dB(fom['snr'])\nest_ENOB = cbadc.fom.snr_to_enob(est_SNR)\nplt.semilogx(\n    f,\n    10 * np.log10(np.abs(psd)),\n    label=f\"Uncalibrated, est_ENOB={est_ENOB:.1f} bits, est_SNR={est_SNR:.1f} dB\",\n)\n\n# Ref\nf, psd = cbadc.utilities.compute_power_spectral_density(\n    u_hat_cut_ref[:], fs=1 / digital_control.clock.T, nperseg=u_hat_cut_ref.size\n)\nsignal_index = cbadc.utilities.find_sinusoidal(psd, 15)\nnoise_index = np.ones(psd.size, dtype=bool)\nnoise_index[signal_index] = False\nnoise_index[f < (BW * 1e-2)] = False\nnoise_index[f > BW] = False\nfom = cbadc.utilities.snr_spectrum_computation_extended(\n    psd, signal_index, noise_index, fs=1 / digital_control.clock.T\n)\nest_SNR = cbadc.fom.snr_to_dB(fom['snr'])\nest_ENOB = cbadc.fom.snr_to_enob(est_SNR)\nplt.semilogx(\n    f,\n    10 * np.log10(np.abs(psd)),\n    label=f\"Ref, est_ENOB={est_ENOB:.1f} bits, est_SNR={est_SNR:.1f} dB\",\n)\n\n# Calibrated Est\nf, psd = cbadc.utilities.compute_power_spectral_density(\n    u_hat[:], fs=1 / digital_control.clock.T, nperseg=u_hat.size\n)\nsignal_index = cbadc.utilities.find_sinusoidal(psd, 15)\nnoise_index = np.ones(psd.size, dtype=bool)\nnoise_index[signal_index] = False\nnoise_index[f < (BW * 1e-2)] = False\nnoise_index[f > BW] = False\nfom = cbadc.utilities.snr_spectrum_computation_extended(\n    psd, signal_index, noise_index, fs=1 / digital_control.clock.T\n)\nest_SNR = cbadc.fom.snr_to_dB(fom['snr'])\nest_ENOB = cbadc.fom.snr_to_enob(est_SNR)\nplt.semilogx(\n    f,\n    10 * np.log10(np.abs(psd)),\n    label=f\"Calibrated, est_ENOB={est_ENOB:.1f} bits, est_SNR={est_SNR:.1f} dB\",\n)\n\nplt.title(\"Power spectral density of input estimate\")\nplt.xlabel('Hz')\nplt.ylabel('$V^2$ / Hz dB')\nplt.legend()\nplt.grid(which=\"both\")\nplt.gcf().tight_layout()"
      ]
    }
  ],
  "metadata": {
    "kernelspec": {
      "display_name": "Python 3",
      "language": "python",
      "name": "python3"
    },
    "language_info": {
      "codemirror_mode": {
        "name": "ipython",
        "version": 3
      },
      "file_extension": ".py",
      "mimetype": "text/x-python",
      "name": "python",
      "nbconvert_exporter": "python",
      "pygments_lexer": "ipython3",
      "version": "3.9.10"
    }
  },
  "nbformat": 4,
  "nbformat_minor": 0
}