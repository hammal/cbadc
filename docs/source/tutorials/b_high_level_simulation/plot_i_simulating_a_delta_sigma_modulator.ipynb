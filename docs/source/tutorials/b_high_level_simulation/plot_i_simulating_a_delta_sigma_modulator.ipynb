{
  "cells": [
    {
      "cell_type": "code",
      "execution_count": null,
      "metadata": {
        "collapsed": false
      },
      "outputs": [],
      "source": [
        "%matplotlib inline"
      ]
    },
    {
      "cell_type": "markdown",
      "metadata": {},
      "source": [
        "\n# Simulating a CTDS Modulator\n"
      ]
    },
    {
      "cell_type": "code",
      "execution_count": null,
      "metadata": {
        "collapsed": false
      },
      "outputs": [],
      "source": [
        "import cbadc\nimport numpy as np\nimport matplotlib.pyplot as plt\nimport json\n\nT = 0.1e-8\nN = 5\nK1 = 1 << 9\nK2 = K1\nOSR = 16\nBW = 1 / (2 * T * OSR)"
      ]
    },
    {
      "cell_type": "markdown",
      "metadata": {},
      "source": [
        "## Instantiating the Analog System and Digital Control\n\nWe start by loading a delta sigma modulator constructed\nusing the `www.sigma-delta.de <www.sigma-delta.de>`_ framework.\n\n\n"
      ]
    },
    {
      "cell_type": "code",
      "execution_count": null,
      "metadata": {
        "collapsed": false
      },
      "outputs": [],
      "source": [
        "with open('CTSD_N5_OSR16_Q32_CRFF_OPT1_HINF600.json') as f:\n    analog_frontend_ctsd = cbadc.synthesis.ctsd_dict2af(json.load(f), T)\n\neta2_ctsd = (\n    np.linalg.norm(\n        analog_frontend_ctsd.analog_system.transfer_function_matrix(\n            np.array([2 * np.pi * BW])\n        )\n    )\n    ** 2\n)\n\ndigital_estimator_ctsd = cbadc.digital_estimator.BatchEstimator(\n    analog_frontend_ctsd.analog_system,\n    analog_frontend_ctsd.digital_control,\n    eta2_ctsd,\n    K1,\n    K2,\n)\n\nprint(analog_frontend_ctsd.analog_system)"
      ]
    },
    {
      "cell_type": "markdown",
      "metadata": {},
      "source": [
        "## Leap Frog\n\n\n"
      ]
    },
    {
      "cell_type": "code",
      "execution_count": null,
      "metadata": {
        "collapsed": false
      },
      "outputs": [],
      "source": [
        "analog_frontend_leap_frog = cbadc.synthesis.get_leap_frog(\n    OSR=OSR, N=N, BW=BW, opt=False\n)\n\nanalog_frontend_leap_frog.digital_control = (\n    cbadc.digital_control.MultiLevelDigitalControl(\n        analog_frontend_leap_frog.digital_control.clock, N, [1] * N\n    )\n)\n\n# Scale B\n# analog_frontend_leap_frog.analog_system.B = (\n#     2 * analog_frontend_leap_frog.analog_system.B\n# )\n\n\n# Scale Gamma\n# analog_frontend_leap_frog.analog_system.Gamma = np.dot(\n#     np.diag(np.array([0.5 ** (x + 1) for x in range(N)])),\n#     analog_frontend_leap_frog.analog_system.Gamma,\n# )\n\neta2_leap_frog = (\n    np.linalg.norm(\n        analog_frontend_leap_frog.analog_system.transfer_function_matrix(\n            np.array([2 * np.pi * BW])\n        )\n    )\n    ** 2\n)\n\ndigital_estimator_leap_frog = cbadc.digital_estimator.BatchEstimator(\n    analog_frontend_leap_frog.analog_system,\n    analog_frontend_leap_frog.digital_control,\n    eta2_leap_frog,\n    K1,\n    K2,\n)\n\nprint(analog_frontend_leap_frog.analog_system)"
      ]
    },
    {
      "cell_type": "markdown",
      "metadata": {},
      "source": [
        "## Input Signal\n\n\n"
      ]
    },
    {
      "cell_type": "code",
      "execution_count": null,
      "metadata": {
        "collapsed": false
      },
      "outputs": [],
      "source": [
        "amplitude = 0.25e-0\nphase = 0.0\noffset = 0.0\nfrequency = 1.0 / analog_frontend_ctsd.digital_control.clock.T\n\nwhile frequency > BW:\n    frequency /= 2\ninput_signal = cbadc.analog_signal.Sinusoidal(amplitude, frequency, phase, offset)\n# input_signal = cbadc.analog_signal.ConstantSignal(amplitude)"
      ]
    },
    {
      "cell_type": "markdown",
      "metadata": {},
      "source": [
        "## Transfer Functions\n\n\n"
      ]
    },
    {
      "cell_type": "code",
      "execution_count": null,
      "metadata": {
        "collapsed": false
      },
      "outputs": [],
      "source": [
        "# Logspace frequencies\nfrequencies = np.logspace(3, 8, 1000)\nomega = 2 * np.pi * frequencies\n\n# Compute transfer functions for each frequency in frequencies\ntransfer_function_ctsd = analog_frontend_ctsd.analog_system.transfer_function_matrix(\n    omega\n)\ntransfer_function_ctsd_dB = 20 * np.log10(np.abs(transfer_function_ctsd))\n\ntransfer_function_leap_frog = (\n    analog_frontend_leap_frog.analog_system.transfer_function_matrix(omega)\n)\ntransfer_function_leap_frog_dB = 20 * np.log10(np.abs(transfer_function_leap_frog))\n\nG_omega = 20 * np.log10(np.linalg.norm(transfer_function_ctsd[:, 0, :], axis=0))\n\nplt.semilogx([BW, BW], [np.min(G_omega), np.max(G_omega)], '--', label=\"BW\")\n\n# Add the norm ||G(omega)||_2\nplt.semilogx(\n    frequencies,\n    20 * np.log10(np.linalg.norm(transfer_function_leap_frog[:, 0, :], axis=0)),\n    label=\"LF $ ||\\mathbf{G}(\\omega)||_2 $\",\n)\nplt.semilogx(\n    frequencies,\n    G_omega,\n    label=\"CTSD $ ||\\mathbf{G}(\\omega)||_2 $\",\n)\n\n\n# Add labels and legends to figure\nplt.legend()\nplt.grid(which=\"both\")\nplt.xlabel(\"$f$ [Hz]\")\nplt.ylabel(\"dB\")\nplt.xlim((frequencies[0], frequencies[-1]))\nplt.gcf().tight_layout()\n\n\nfor n in range(N):\n    plt.figure()\n    #     color = next(plt.gca()._get_lines.prop_cycler)[\"color\"]\n    plt.semilogx(\n        frequencies,\n        transfer_function_leap_frog_dB[n, 0, :],\n        label=\"LF $G_\" + f\"{n+1}\" + \"(f)$\",\n        # color = color\n    )\n    plt.semilogx(\n        frequencies,\n        transfer_function_ctsd_dB[n, 0, :],\n        '--',\n        label=\"CTSD $G_\" + f\"{n+1}\" + \"(f)$\",\n        #     # color = color\n    )\n    plt.legend()\n    plt.grid(which=\"both\")\n    plt.xlabel(\"$f$ [Hz]\")\n    plt.ylabel(\"dB\")\n    plt.xlim((frequencies[0], frequencies[-1]))\n    plt.gcf().tight_layout()"
      ]
    },
    {
      "cell_type": "markdown",
      "metadata": {},
      "source": [
        "## Simulation Setup\n\n\n"
      ]
    },
    {
      "cell_type": "code",
      "execution_count": null,
      "metadata": {
        "collapsed": false
      },
      "outputs": [],
      "source": [
        "simulator_ctsd = cbadc.simulator.get_simulator(\n    analog_frontend_ctsd.analog_system,\n    analog_frontend_ctsd.digital_control,\n    [input_signal],\n)\ndigital_estimator_ctsd(simulator_ctsd)\n\nsimulator_leap_frog = cbadc.simulator.get_simulator(\n    analog_frontend_leap_frog.analog_system,\n    analog_frontend_leap_frog.digital_control,\n    [input_signal],\n)\ndigital_estimator_leap_frog(simulator_leap_frog)"
      ]
    },
    {
      "cell_type": "markdown",
      "metadata": {},
      "source": [
        "## Simulate State Trajectories\n\n\n"
      ]
    },
    {
      "cell_type": "code",
      "execution_count": null,
      "metadata": {
        "collapsed": false
      },
      "outputs": [],
      "source": [
        "# Simulate for 65536 control cycles.\nsize = 1 << 14\n\ntime_vector = np.arange(size)\nstates = np.zeros((N, size, 2))\ncontrol_signals = np.zeros((N, size, 2), dtype=np.double)\n\n# Iterate through and store states and control_signals.\nsimulator_ctsd = cbadc.simulator.extended_simulation_result(simulator_ctsd)\nsimulator_leap_frog = cbadc.simulator.extended_simulation_result(simulator_leap_frog)\nfor index in cbadc.utilities.show_status(range(size)):\n    res_ctsd = next(simulator_ctsd)\n    states[:, index, 0] = res_ctsd[\"analog_state\"]\n    control_signals[:, index, 0] = res_ctsd[\"control_signal\"]\n    res_leap_frog = next(simulator_leap_frog)\n    states[:, index, 1] = res_leap_frog[\"analog_state\"]\n    control_signals[:, index, 1] = res_leap_frog[\"control_signal\"]\n\nxlim = 1 << 12\n# Plot all analog state evolutions.\nplt.figure()\nplt.title(\"Analog state vectors\")\nfor index in range(N):\n    plt.plot(time_vector, states[index, :, 1], label=f\"LF $x_{index + 1}(t)$\")\n    plt.plot(time_vector, states[index, :, 0], label=f\"CTSD $x_{index + 1}(t)$\")\nplt.grid(visible=True, which=\"major\", color=\"gray\", alpha=0.6, lw=1.5)\nplt.xlabel(\"$t/T$\")\nplt.xlim((0, xlim))\nplt.legend()\n\n\n# reset figure size and plot individual results.\nplt.rcParams[\"figure.figsize\"] = [6.40, 6.40 * 2]\nfig, ax = plt.subplots(N, 2)\nfor index in range(N):\n    color = next(ax[0, 0]._get_lines.prop_cycler)[\"color\"]\n    color2 = next(ax[0, 0]._get_lines.prop_cycler)[\"color\"]\n    ax[index, 0].grid(visible=True, which=\"major\", color=\"gray\", alpha=0.6, lw=1.5)\n    ax[index, 1].grid(visible=True, which=\"major\", color=\"gray\", alpha=0.6, lw=1.5)\n    ax[index, 0].plot(time_vector, states[index, :, 1], color=color2, label=\"LF\")\n    ax[index, 0].plot(time_vector, states[index, :, 0], color=color, label=\"CTSD\")\n    ax[index, 1].plot(\n        time_vector, control_signals[0, :, 1], \"--\", color=color2, label=\"LF\"\n    )\n    if index == (N - 1):\n        ax[index, 1].plot(\n            time_vector, control_signals[0, :, 0], \"--\", color=color, label=\"CTSD\"\n        )\n    ax[index, 0].set_ylabel(f\"$x_{index + 1}(t)$\")\n    ax[index, 1].set_ylabel(f\"$s_{index + 1}(t)$\")\n    ax[index, 0].set_xlim((0, xlim))\n    ax[index, 1].set_xlim((0, xlim))\n    ax[index, 0].set_ylim((-1, 1))\n    ax[index, 0].legend()\nfig.suptitle(\"Analog state and control contribution evolution\")\nax[-1, 0].set_xlabel(\"$t / T$\")\nax[-1, 1].set_xlabel(\"$t / T$\")\nfig.tight_layout()"
      ]
    },
    {
      "cell_type": "markdown",
      "metadata": {},
      "source": [
        "## Simulation\n\n\n"
      ]
    },
    {
      "cell_type": "code",
      "execution_count": null,
      "metadata": {
        "collapsed": false
      },
      "outputs": [],
      "source": [
        "size = 1 << 14\nu_hat_ctsd = np.zeros(size)\nu_hat_leap_frog = np.zeros(size)\n\nfor index in range(size):\n    u_hat_ctsd[index] = next(digital_estimator_ctsd)\n    u_hat_leap_frog[index] = next(digital_estimator_leap_frog)\n\nu_hat_ctsd = u_hat_ctsd[K1 + K2 :]\nu_hat_leap_frog = u_hat_leap_frog[K1 + K2 :]"
      ]
    },
    {
      "cell_type": "markdown",
      "metadata": {},
      "source": [
        "## Visualize Results\n\n\n"
      ]
    },
    {
      "cell_type": "code",
      "execution_count": null,
      "metadata": {
        "collapsed": false
      },
      "outputs": [],
      "source": [
        "plt.rcParams[\"figure.figsize\"] = [6.40 * 1.34, 6.40]\n\nf, psd = cbadc.utilities.compute_power_spectral_density(\n    u_hat_ctsd[:],\n    fs=1 / analog_frontend_ctsd.digital_control.clock.T,\n    nperseg=u_hat_ctsd.size,\n)\nsignal_index = cbadc.utilities.find_sinusoidal(psd, 15)\nnoise_index = np.ones(psd.size, dtype=bool)\nnoise_index[signal_index] = False\nnoise_index[f < (BW * 1e-2)] = False\nnoise_index[f > BW] = False\nfom = cbadc.utilities.snr_spectrum_computation_extended(\n    psd, signal_index, noise_index, fs=1 / analog_frontend_ctsd.digital_control.clock.T\n)\nest_SNR = cbadc.fom.snr_to_dB(fom['snr'])\nest_ENOB = cbadc.fom.snr_to_enob(est_SNR)\nplt.semilogx(\n    f,\n    10 * np.log10(np.abs(psd)),\n    label=f\"CTSD, OSR={1/(2 * analog_frontend_ctsd.digital_control.clock.T * BW):.0f}, est_ENOB={est_ENOB:.1f} bits, est_SNR={est_SNR:.1f} dB\",\n)\n\nf, psd = cbadc.utilities.compute_power_spectral_density(\n    u_hat_leap_frog[:],\n    fs=1 / analog_frontend_ctsd.digital_control.clock.T,\n    nperseg=u_hat_leap_frog.size,\n)\nsignal_index = cbadc.utilities.find_sinusoidal(psd, 15)\nnoise_index = np.ones(psd.size, dtype=bool)\nnoise_index[signal_index] = False\nnoise_index[f < (BW * 1e-2)] = False\nnoise_index[f > BW] = False\nfom = cbadc.utilities.snr_spectrum_computation_extended(\n    psd, signal_index, noise_index, fs=1 / analog_frontend_ctsd.digital_control.clock.T\n)\nest_SNR = cbadc.fom.snr_to_dB(fom['snr'])\nest_ENOB = cbadc.fom.snr_to_enob(est_SNR)\nplt.semilogx(\n    f,\n    10 * np.log10(np.abs(psd)),\n    label=f\"LF, OSR={1/(2 * analog_frontend_ctsd.digital_control.clock.T * BW):.0f}, est_ENOB={est_ENOB:.1f} bits, est_SNR={est_SNR:.1f} dB\",\n)\n\nplt.title(\"Power spectral density of input estimate\")\nplt.xlabel('Hz')\nplt.ylabel('$V^2$ / Hz dB')\nplt.legend()\nplt.grid(which=\"both\")\nplt.gcf().tight_layout()"
      ]
    },
    {
      "cell_type": "markdown",
      "metadata": {},
      "source": [
        "## Time\n\n\n"
      ]
    },
    {
      "cell_type": "code",
      "execution_count": null,
      "metadata": {
        "collapsed": false
      },
      "outputs": [],
      "source": [
        "t = np.arange(u_hat_ctsd.size)\nplt.plot(t, u_hat_ctsd, label=\"CTSD\")\nplt.plot(t, u_hat_leap_frog, label=\"LF\")\nplt.xlabel(\"$t / T$\")\nplt.ylabel(\"$\\hat{u}(t)$\")\nplt.title(\"Estimated input signal\")\nplt.grid()\nplt.xlim((0, 1500))\nplt.ylim((-1, 1))\nplt.tight_layout()"
      ]
    }
  ],
  "metadata": {
    "kernelspec": {
      "display_name": "Python 3",
      "language": "python",
      "name": "python3"
    },
    "language_info": {
      "codemirror_mode": {
        "name": "ipython",
        "version": 3
      },
      "file_extension": ".py",
      "mimetype": "text/x-python",
      "name": "python",
      "nbconvert_exporter": "python",
      "pygments_lexer": "ipython3",
      "version": "3.9.10"
    }
  },
  "nbformat": 4,
  "nbformat_minor": 0
}