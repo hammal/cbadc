{
  "cells": [
    {
      "cell_type": "code",
      "execution_count": null,
      "metadata": {
        "collapsed": false
      },
      "outputs": [],
      "source": [
        "%matplotlib inline"
      ]
    },
    {
      "cell_type": "markdown",
      "metadata": {},
      "source": [
        "\n# Designing for a Target Specification\n\nIn this tutorial we investigate the\n:py:func:`cbadc.synthesis.get_chain_of_integrator` and\n:py:func:`cbadc.synthesis.get_leap_frog` convenience function\nto quickly get initalized analog systems and digital control\nfor a given target specification.\n"
      ]
    },
    {
      "cell_type": "code",
      "execution_count": null,
      "metadata": {
        "collapsed": false
      },
      "outputs": [],
      "source": [
        "import cbadc\nimport numpy as np\nimport matplotlib.pyplot as plt"
      ]
    },
    {
      "cell_type": "markdown",
      "metadata": {},
      "source": [
        "## Specifying a Target Performance\n\nOur target specification requires three things to be specified\n\n\n"
      ]
    },
    {
      "cell_type": "code",
      "execution_count": null,
      "metadata": {
        "collapsed": false
      },
      "outputs": [],
      "source": [
        "ENOB = 12\nN = 4\nBW = 1e6\n\n# Then a corresponding chain-of-integrators system is created as\nanalog_frontend_coix = cbadc.synthesis.get_chain_of_integrator(\n    ENOB=ENOB, N=N, BW=BW, xi=2e-3 / np.pi\n)\nas_coi = analog_frontend_coix.analog_system\ndigital_control = analog_frontend_coix.digital_control\n# where xi is a tuning parameter.\n\n# Similarly, the leap-frog analog system is created as\nanalog_frontend = cbadc.synthesis.get_leap_frog(ENOB=ENOB, N=N, BW=BW, xi=7e-2 / np.pi)\nanalog_system = analog_frontend.analog_system\ndigital_control = analog_frontend.digital_control\n\n# Comparing the transfer functions\nBW_log = np.log10(BW)\nfrequencies = np.logspace(BW_log - 2, BW_log + 1, 500)\nomegas = 2 * np.pi * frequencies\n\n\n# Compute transfer functions for each frequency in frequencies\ntransfer_function_coi = as_coi.transfer_function_matrix(omegas)\ntransfer_function_lf = analog_system.transfer_function_matrix(omegas)\n\nplt.semilogx(\n    frequencies,\n    20 * np.log10(np.linalg.norm(transfer_function_coi[:, 0, :], axis=0)),\n    label=\"chain-of-integrators $ ||\\mathbf{G}(\\omega)||_2 $\",\n)\nplt.semilogx(\n    frequencies,\n    20 * np.log10(np.linalg.norm(transfer_function_lf[:, 0, :], axis=0)),\n    label=\"leap-frog $ ||\\mathbf{G}(\\omega)||_2 $\",\n)\n\n# Add labels and legends to figure\nplt.legend()\nplt.grid(which=\"both\")\nplt.title(\"Analog system transfer function\")\nplt.xlabel(\"$f$ [Hz]\")\nplt.ylabel(\"dB\")\nplt.xlim((frequencies[0], frequencies[-1]))\nplt.gcf().tight_layout()"
      ]
    },
    {
      "cell_type": "markdown",
      "metadata": {},
      "source": [
        "### Comparing System Orders\n\nWe demonstrate how the filters evolve for different filter orders N\n\n\n"
      ]
    },
    {
      "cell_type": "code",
      "execution_count": null,
      "metadata": {
        "collapsed": false
      },
      "outputs": [],
      "source": [
        "ENOB = 16\nBW = 1e6\nN = [2, 4, 8, 10, 12]\n\n# Chain-of-integrators\nplt.figure()\nfor n in N:\n    analog_frontend = cbadc.synthesis.get_chain_of_integrator(\n        ENOB=ENOB, N=n, BW=BW, xi=2e-3 / np.pi\n    )\n    analog_system = analog_frontend.analog_system\n    digital_control = analog_frontend.digital_control\n    transfer_function = analog_system.transfer_function_matrix(omegas)\n\n    plt.semilogx(\n        frequencies,\n        20 * np.log10(np.linalg.norm(transfer_function[:, 0, :], axis=0)),\n        label=f\"chain-of-integrators, N={n}, \" + \"$ ||\\mathbf{G}(\\omega)||_2 $\",\n    )\n# Add labels and legends to figure\nplt.legend()\nplt.grid(which=\"both\")\nplt.title(\"Analog system transfer function\")\nplt.xlabel(\"$f$ [Hz]\")\nplt.ylabel(\"dB\")\nplt.xlim((frequencies[0], frequencies[-1]))\nplt.gcf().tight_layout()"
      ]
    },
    {
      "cell_type": "markdown",
      "metadata": {},
      "source": [
        "### Performance Validation Chain-of-Integrators\n\nWe confirm the results above by full system simulations\n\n\n"
      ]
    },
    {
      "cell_type": "code",
      "execution_count": null,
      "metadata": {
        "collapsed": false
      },
      "outputs": [],
      "source": [
        "eta2 = (\n    np.linalg.norm(analog_system.transfer_function_matrix(np.array([2 * np.pi * BW])))\n    ** 2\n)\nK1 = 1 << 10\nK2 = K1\namplitude = 1e0\nphase = 0.0\noffset = 0.0\nsize = 1 << 15\nu_hat = np.zeros(size)\n\nplt.figure()\nfor n in N[1:][::-1]:\n    analog_frontend = cbadc.synthesis.get_chain_of_integrator(\n        ENOB=ENOB, N=n, BW=BW, xi=2e-3 / np.pi\n    )\n    analog_system = analog_frontend.analog_system\n    digital_control = analog_frontend.digital_control\n    digital_estimator = cbadc.digital_estimator.BatchEstimator(\n        analog_system, digital_control, eta2, K1, K2\n    )\n    frequency = 1.0 / digital_control.clock.T\n    while frequency > BW:\n        frequency /= 2\n    input_signal = cbadc.analog_signal.Sinusoidal(amplitude, frequency, phase, offset)\n    simulator = cbadc.simulator.get_simulator(\n        analog_system, digital_control, [input_signal]\n    )\n    digital_estimator(simulator)\n    for index in range(size):\n        u_hat[index] = next(digital_estimator)\n    u_hat_cut = u_hat[K1 + K2 :]\n    f, psd = cbadc.utilities.compute_power_spectral_density(\n        u_hat_cut[:], fs=1 / digital_control.clock.T, nperseg=u_hat_cut.size\n    )\n    signal_index = cbadc.utilities.find_sinusoidal(psd, 15)\n    noise_index = np.ones(psd.size, dtype=bool)\n    noise_index[signal_index] = False\n    noise_index[f < (BW * 1e-2)] = False\n    noise_index[f > BW] = False\n    fom = cbadc.utilities.snr_spectrum_computation_extended(\n        psd, signal_index, noise_index, fs=1 / digital_control.clock.T\n    )\n    est_SNR = cbadc.fom.snr_to_dB(fom['snr'])\n    est_ENOB = cbadc.fom.snr_to_enob(est_SNR)\n    plt.semilogx(\n        f,\n        10 * np.log10(np.abs(psd)),\n        label=f\"N={n}, OSR={1/(2 * digital_control.clock.T * BW):.0f}, est_ENOB={est_ENOB:.1f} bits, est_SNR={est_SNR:.1f} dB\",\n    )\n\nplt.title(\"Power spectral density of input estimate\")\nplt.xlabel('Hz')\nplt.ylabel('$V^2$ / Hz dB')\nplt.legend()\nplt.grid(which=\"both\")\nplt.gcf().tight_layout()"
      ]
    },
    {
      "cell_type": "markdown",
      "metadata": {},
      "source": [
        "### Performance Validation Leap-Frog\n\n\n"
      ]
    },
    {
      "cell_type": "code",
      "execution_count": null,
      "metadata": {
        "collapsed": false
      },
      "outputs": [],
      "source": [
        "# Leap-frog\nplt.figure()\nfor n in N:\n    analog_frontend = cbadc.synthesis.get_leap_frog(\n        ENOB=ENOB, N=n, BW=BW, xi=7e-2 / np.pi\n    )\n    analog_system = analog_frontend.analog_system\n    digital_control = analog_frontend.digital_control\n    transfer_function = analog_system.transfer_function_matrix(omegas)\n\n    plt.semilogx(\n        frequencies,\n        20 * np.log10(np.linalg.norm(transfer_function[:, 0, :], axis=0)),\n        label=f\"leap-frog, N={n}, \" + \"$ ||\\mathbf{G}(\\omega)||_2 $\",\n    )\n\n# Add labels and legends to figure\nplt.legend()\nplt.grid(which=\"both\")\nplt.title(\"Analog system transfer function\")\nplt.xlabel(\"$f$ [Hz]\")\nplt.ylabel(\"dB\")\nplt.xlim((frequencies[0], frequencies[-1]))\nplt.gcf().tight_layout()\n\n\nplt.figure()\nfor n in N[1:][::-1]:\n    analog_frontend = cbadc.synthesis.get_leap_frog(ENOB=ENOB, N=n, BW=BW)\n    analog_system = analog_frontend.analog_system\n    digital_control = analog_frontend.digital_control\n    digital_estimator = cbadc.digital_estimator.BatchEstimator(\n        analog_system, digital_control, eta2, K1, K2\n    )\n    frequency = 1.0 / digital_control.clock.T\n    while frequency > BW:\n        frequency /= 2\n    input_signal = cbadc.analog_signal.Sinusoidal(amplitude, frequency, phase, offset)\n    simulator = cbadc.simulator.get_simulator(\n        analog_system, digital_control, [input_signal]\n    )\n    digital_estimator(simulator)\n    for index in range(size):\n        u_hat[index] = next(digital_estimator)\n    u_hat_cut = u_hat[K1 + K2 :]\n    f, psd = cbadc.utilities.compute_power_spectral_density(\n        u_hat_cut[:], fs=1 / digital_control.clock.T, nperseg=u_hat_cut.size\n    )\n    signal_index = cbadc.utilities.find_sinusoidal(psd, 15)\n    noise_index = np.ones(psd.size, dtype=bool)\n    noise_index[signal_index] = False\n    noise_index[f < (BW * 1e-2)] = False\n    noise_index[f > BW] = False\n    fom = cbadc.utilities.snr_spectrum_computation_extended(\n        psd, signal_index, noise_index, fs=1 / digital_control.clock.T\n    )\n    est_SNR = cbadc.fom.snr_to_dB(fom['snr'])\n    est_ENOB = cbadc.fom.snr_to_enob(est_SNR)\n    plt.semilogx(\n        f,\n        10 * np.log10(np.abs(psd)),\n        label=f\"N={n}, OSR={1/(2 * digital_control.clock.T * BW):.0f}, est_ENOB={est_ENOB:.1f} bits, est_SNR={est_SNR:.1f} dB\",\n    )\n\nplt.title(\"Power spectral density of input estimate\")\nplt.xlabel('Hz')\nplt.ylabel('$V^2$ / Hz dB')\nplt.legend()\nplt.grid(which=\"both\")\nplt.xlim((frequencies[0], frequencies[-1]))\nplt.gcf().tight_layout()"
      ]
    }
  ],
  "metadata": {
    "kernelspec": {
      "display_name": "Python 3",
      "language": "python",
      "name": "python3"
    },
    "language_info": {
      "codemirror_mode": {
        "name": "ipython",
        "version": 3
      },
      "file_extension": ".py",
      "mimetype": "text/x-python",
      "name": "python",
      "nbconvert_exporter": "python",
      "pygments_lexer": "ipython3",
      "version": "3.9.10"
    }
  },
  "nbformat": 4,
  "nbformat_minor": 0
}